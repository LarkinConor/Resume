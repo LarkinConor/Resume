{
  "nbformat": 4,
  "nbformat_minor": 0,
  "metadata": {
    "colab": {
      "provenance": [],
      "include_colab_link": true
    },
    "kernelspec": {
      "name": "python3",
      "display_name": "Python 3"
    }
  },
  "cells": [
    {
      "cell_type": "markdown",
      "metadata": {
        "id": "view-in-github",
        "colab_type": "text"
      },
      "source": [
        "<a href=\"https://colab.research.google.com/github/LarkinConor/Resume/blob/main/Larkin_Conor_A1.ipynb\" target=\"_parent\"><img src=\"https://colab.research.google.com/assets/colab-badge.svg\" alt=\"Open In Colab\"/></a>"
      ]
    },
    {
      "cell_type": "markdown",
      "metadata": {
        "id": "f_quccU2zmpB"
      },
      "source": [
        "Rename the notebook Lastname.Firstname-A1.ipynb\n",
        "\n",
        "1. Download real estate listings for a town of your choice from redfin.com.\n",
        "2. Load the data into a dataframe.\n",
        "\n",
        "2 pts."
      ]
    },
    {
      "cell_type": "code",
      "metadata": {
        "id": "74bZ35P5zlUC",
        "colab": {
          "base_uri": "https://localhost:8080/"
        },
        "outputId": "9b3c8c63-57dc-4eec-df11-3d1e426ac69a"
      },
      "source": [
        "import pandas as pd\n",
        "\n",
        "from google.colab import drive\n",
        "drive.mount('/content/drive')\n"
      ],
      "execution_count": null,
      "outputs": [
        {
          "output_type": "stream",
          "name": "stdout",
          "text": [
            "Mounted at /content/drive\n"
          ]
        }
      ]
    },
    {
      "cell_type": "code",
      "source": [
        "path =\"/content/drive/MyDrive/Westfield_redfin.csv\"\n",
        "df = pd.read_csv(path)"
      ],
      "metadata": {
        "id": "7znFqmut4eSk"
      },
      "execution_count": null,
      "outputs": []
    },
    {
      "cell_type": "markdown",
      "metadata": {
        "id": "bswBMZw3z9iA"
      },
      "source": [
        "3. Evaluate data types and null values among the data\n",
        "\n",
        "2 pts."
      ]
    },
    {
      "cell_type": "code",
      "metadata": {
        "id": "SZGHqRuiz2B3",
        "colab": {
          "base_uri": "https://localhost:8080/"
        },
        "outputId": "fd9cf4fb-fcef-4fc6-9181-27db297278a8"
      },
      "source": [
        "df.info()"
      ],
      "execution_count": null,
      "outputs": [
        {
          "output_type": "stream",
          "name": "stdout",
          "text": [
            "<class 'pandas.core.frame.DataFrame'>\n",
            "RangeIndex: 109 entries, 0 to 108\n",
            "Data columns (total 27 columns):\n",
            " #   Column                                                                                       Non-Null Count  Dtype  \n",
            "---  ------                                                                                       --------------  -----  \n",
            " 0   SALE TYPE                                                                                    109 non-null    object \n",
            " 1   SOLD DATE                                                                                    39 non-null     object \n",
            " 2   PROPERTY TYPE                                                                                109 non-null    object \n",
            " 3   ADDRESS                                                                                      109 non-null    object \n",
            " 4   CITY                                                                                         109 non-null    object \n",
            " 5   STATE OR PROVINCE                                                                            109 non-null    object \n",
            " 6   ZIP OR POSTAL CODE                                                                           109 non-null    object \n",
            " 7   PRICE                                                                                        109 non-null    int64  \n",
            " 8   BEDS                                                                                         105 non-null    float64\n",
            " 9   BATHS                                                                                        103 non-null    float64\n",
            " 10  LOCATION                                                                                     106 non-null    object \n",
            " 11  SQUARE FEET                                                                                  27 non-null     float64\n",
            " 12  LOT SIZE                                                                                     97 non-null     float64\n",
            " 13  YEAR BUILT                                                                                   95 non-null     float64\n",
            " 14  DAYS ON MARKET                                                                               109 non-null    int64  \n",
            " 15  $/SQUARE FEET                                                                                27 non-null     float64\n",
            " 16  HOA/MONTH                                                                                    10 non-null     float64\n",
            " 17  STATUS                                                                                       109 non-null    object \n",
            " 18  NEXT OPEN HOUSE START TIME                                                                   5 non-null      object \n",
            " 19  NEXT OPEN HOUSE END TIME                                                                     5 non-null      object \n",
            " 20  URL (SEE https://www.redfin.com/buy-a-home/comparative-market-analysis FOR INFO ON PRICING)  109 non-null    object \n",
            " 21  SOURCE                                                                                       109 non-null    object \n",
            " 22  MLS#                                                                                         109 non-null    object \n",
            " 23  FAVORITE                                                                                     109 non-null    object \n",
            " 24  INTERESTED                                                                                   109 non-null    object \n",
            " 25  LATITUDE                                                                                     109 non-null    float64\n",
            " 26  LONGITUDE                                                                                    109 non-null    float64\n",
            "dtypes: float64(9), int64(2), object(16)\n",
            "memory usage: 23.1+ KB\n"
          ]
        }
      ]
    },
    {
      "cell_type": "markdown",
      "metadata": {
        "id": "zMokVlkK0EU5"
      },
      "source": [
        "4. Assess the range of values (min, max, quartiles) in each numeric field.\n",
        "\n",
        "2 pts."
      ]
    },
    {
      "cell_type": "code",
      "metadata": {
        "id": "t_L2faKt0OVi",
        "colab": {
          "base_uri": "https://localhost:8080/",
          "height": 510
        },
        "outputId": "a8054931-7850-4026-ca98-01b901fba14e"
      },
      "source": [
        "df.describe().transpose()"
      ],
      "execution_count": null,
      "outputs": [
        {
          "output_type": "execute_result",
          "data": {
            "text/plain": [
              "                count          mean            std            min  \\\n",
              "PRICE           109.0  1.016049e+06  515467.900059  185000.000000   \n",
              "BEDS            105.0  3.742857e+00       1.323083       0.000000   \n",
              "BATHS           103.0  3.029126e+00       1.441379       1.000000   \n",
              "SQUARE FEET      27.0  3.266815e+03    2460.913433     800.000000   \n",
              "LOT SIZE         97.0  1.539504e+04   21783.110919    3484.000000   \n",
              "YEAR BUILT       95.0  1.955126e+03      45.372042    1746.000000   \n",
              "DAYS ON MARKET  109.0  4.858716e+01      61.944900       1.000000   \n",
              "$/SQUARE FEET    27.0  4.075926e+02     220.613177     146.000000   \n",
              "HOA/MONTH        10.0  6.519000e+02     405.810424      17.000000   \n",
              "LATITUDE        109.0  4.064984e+01       0.012982      40.623729   \n",
              "LONGITUDE       109.0 -7.434562e+01       0.015419     -74.376960   \n",
              "\n",
              "                          25%            50%           75%           max  \n",
              "PRICE           649000.000000  875000.000000  1.299000e+06  2.950000e+06  \n",
              "BEDS                 3.000000       4.000000  5.000000e+00  7.000000e+00  \n",
              "BATHS                2.000000       3.000000  3.500000e+00  7.500000e+00  \n",
              "SQUARE FEET       1992.000000    2851.000000  3.370500e+03  1.300000e+04  \n",
              "LOT SIZE          7405.000000    9583.000000  1.393900e+04  1.755460e+05  \n",
              "YEAR BUILT        1930.000000    1952.000000  1.986000e+03  2.022000e+03  \n",
              "DAYS ON MARKET       8.000000      28.000000  6.500000e+01  3.270000e+02  \n",
              "$/SQUARE FEET      294.500000     379.000000  4.685000e+02  1.399000e+03  \n",
              "HOA/MONTH          465.500000     487.500000  9.187500e+02  1.280000e+03  \n",
              "LATITUDE            40.639746      40.648271  4.066026e+01  4.068281e+01  \n",
              "LONGITUDE          -74.357029     -74.343603 -7.433291e+01 -7.431702e+01  "
            ],
            "text/html": [
              "\n",
              "  <div id=\"df-3075f29f-c0ac-4a9c-a414-38dcefca501f\">\n",
              "    <div class=\"colab-df-container\">\n",
              "      <div>\n",
              "<style scoped>\n",
              "    .dataframe tbody tr th:only-of-type {\n",
              "        vertical-align: middle;\n",
              "    }\n",
              "\n",
              "    .dataframe tbody tr th {\n",
              "        vertical-align: top;\n",
              "    }\n",
              "\n",
              "    .dataframe thead th {\n",
              "        text-align: right;\n",
              "    }\n",
              "</style>\n",
              "<table border=\"1\" class=\"dataframe\">\n",
              "  <thead>\n",
              "    <tr style=\"text-align: right;\">\n",
              "      <th></th>\n",
              "      <th>count</th>\n",
              "      <th>mean</th>\n",
              "      <th>std</th>\n",
              "      <th>min</th>\n",
              "      <th>25%</th>\n",
              "      <th>50%</th>\n",
              "      <th>75%</th>\n",
              "      <th>max</th>\n",
              "    </tr>\n",
              "  </thead>\n",
              "  <tbody>\n",
              "    <tr>\n",
              "      <th>PRICE</th>\n",
              "      <td>109.0</td>\n",
              "      <td>1.016049e+06</td>\n",
              "      <td>515467.900059</td>\n",
              "      <td>185000.000000</td>\n",
              "      <td>649000.000000</td>\n",
              "      <td>875000.000000</td>\n",
              "      <td>1.299000e+06</td>\n",
              "      <td>2.950000e+06</td>\n",
              "    </tr>\n",
              "    <tr>\n",
              "      <th>BEDS</th>\n",
              "      <td>105.0</td>\n",
              "      <td>3.742857e+00</td>\n",
              "      <td>1.323083</td>\n",
              "      <td>0.000000</td>\n",
              "      <td>3.000000</td>\n",
              "      <td>4.000000</td>\n",
              "      <td>5.000000e+00</td>\n",
              "      <td>7.000000e+00</td>\n",
              "    </tr>\n",
              "    <tr>\n",
              "      <th>BATHS</th>\n",
              "      <td>103.0</td>\n",
              "      <td>3.029126e+00</td>\n",
              "      <td>1.441379</td>\n",
              "      <td>1.000000</td>\n",
              "      <td>2.000000</td>\n",
              "      <td>3.000000</td>\n",
              "      <td>3.500000e+00</td>\n",
              "      <td>7.500000e+00</td>\n",
              "    </tr>\n",
              "    <tr>\n",
              "      <th>SQUARE FEET</th>\n",
              "      <td>27.0</td>\n",
              "      <td>3.266815e+03</td>\n",
              "      <td>2460.913433</td>\n",
              "      <td>800.000000</td>\n",
              "      <td>1992.000000</td>\n",
              "      <td>2851.000000</td>\n",
              "      <td>3.370500e+03</td>\n",
              "      <td>1.300000e+04</td>\n",
              "    </tr>\n",
              "    <tr>\n",
              "      <th>LOT SIZE</th>\n",
              "      <td>97.0</td>\n",
              "      <td>1.539504e+04</td>\n",
              "      <td>21783.110919</td>\n",
              "      <td>3484.000000</td>\n",
              "      <td>7405.000000</td>\n",
              "      <td>9583.000000</td>\n",
              "      <td>1.393900e+04</td>\n",
              "      <td>1.755460e+05</td>\n",
              "    </tr>\n",
              "    <tr>\n",
              "      <th>YEAR BUILT</th>\n",
              "      <td>95.0</td>\n",
              "      <td>1.955126e+03</td>\n",
              "      <td>45.372042</td>\n",
              "      <td>1746.000000</td>\n",
              "      <td>1930.000000</td>\n",
              "      <td>1952.000000</td>\n",
              "      <td>1.986000e+03</td>\n",
              "      <td>2.022000e+03</td>\n",
              "    </tr>\n",
              "    <tr>\n",
              "      <th>DAYS ON MARKET</th>\n",
              "      <td>109.0</td>\n",
              "      <td>4.858716e+01</td>\n",
              "      <td>61.944900</td>\n",
              "      <td>1.000000</td>\n",
              "      <td>8.000000</td>\n",
              "      <td>28.000000</td>\n",
              "      <td>6.500000e+01</td>\n",
              "      <td>3.270000e+02</td>\n",
              "    </tr>\n",
              "    <tr>\n",
              "      <th>$/SQUARE FEET</th>\n",
              "      <td>27.0</td>\n",
              "      <td>4.075926e+02</td>\n",
              "      <td>220.613177</td>\n",
              "      <td>146.000000</td>\n",
              "      <td>294.500000</td>\n",
              "      <td>379.000000</td>\n",
              "      <td>4.685000e+02</td>\n",
              "      <td>1.399000e+03</td>\n",
              "    </tr>\n",
              "    <tr>\n",
              "      <th>HOA/MONTH</th>\n",
              "      <td>10.0</td>\n",
              "      <td>6.519000e+02</td>\n",
              "      <td>405.810424</td>\n",
              "      <td>17.000000</td>\n",
              "      <td>465.500000</td>\n",
              "      <td>487.500000</td>\n",
              "      <td>9.187500e+02</td>\n",
              "      <td>1.280000e+03</td>\n",
              "    </tr>\n",
              "    <tr>\n",
              "      <th>LATITUDE</th>\n",
              "      <td>109.0</td>\n",
              "      <td>4.064984e+01</td>\n",
              "      <td>0.012982</td>\n",
              "      <td>40.623729</td>\n",
              "      <td>40.639746</td>\n",
              "      <td>40.648271</td>\n",
              "      <td>4.066026e+01</td>\n",
              "      <td>4.068281e+01</td>\n",
              "    </tr>\n",
              "    <tr>\n",
              "      <th>LONGITUDE</th>\n",
              "      <td>109.0</td>\n",
              "      <td>-7.434562e+01</td>\n",
              "      <td>0.015419</td>\n",
              "      <td>-74.376960</td>\n",
              "      <td>-74.357029</td>\n",
              "      <td>-74.343603</td>\n",
              "      <td>-7.433291e+01</td>\n",
              "      <td>-7.431702e+01</td>\n",
              "    </tr>\n",
              "  </tbody>\n",
              "</table>\n",
              "</div>\n",
              "      <button class=\"colab-df-convert\" onclick=\"convertToInteractive('df-3075f29f-c0ac-4a9c-a414-38dcefca501f')\"\n",
              "              title=\"Convert this dataframe to an interactive table.\"\n",
              "              style=\"display:none;\">\n",
              "        \n",
              "  <svg xmlns=\"http://www.w3.org/2000/svg\" height=\"24px\"viewBox=\"0 0 24 24\"\n",
              "       width=\"24px\">\n",
              "    <path d=\"M0 0h24v24H0V0z\" fill=\"none\"/>\n",
              "    <path d=\"M18.56 5.44l.94 2.06.94-2.06 2.06-.94-2.06-.94-.94-2.06-.94 2.06-2.06.94zm-11 1L8.5 8.5l.94-2.06 2.06-.94-2.06-.94L8.5 2.5l-.94 2.06-2.06.94zm10 10l.94 2.06.94-2.06 2.06-.94-2.06-.94-.94-2.06-.94 2.06-2.06.94z\"/><path d=\"M17.41 7.96l-1.37-1.37c-.4-.4-.92-.59-1.43-.59-.52 0-1.04.2-1.43.59L10.3 9.45l-7.72 7.72c-.78.78-.78 2.05 0 2.83L4 21.41c.39.39.9.59 1.41.59.51 0 1.02-.2 1.41-.59l7.78-7.78 2.81-2.81c.8-.78.8-2.07 0-2.86zM5.41 20L4 18.59l7.72-7.72 1.47 1.35L5.41 20z\"/>\n",
              "  </svg>\n",
              "      </button>\n",
              "      \n",
              "  <style>\n",
              "    .colab-df-container {\n",
              "      display:flex;\n",
              "      flex-wrap:wrap;\n",
              "      gap: 12px;\n",
              "    }\n",
              "\n",
              "    .colab-df-convert {\n",
              "      background-color: #E8F0FE;\n",
              "      border: none;\n",
              "      border-radius: 50%;\n",
              "      cursor: pointer;\n",
              "      display: none;\n",
              "      fill: #1967D2;\n",
              "      height: 32px;\n",
              "      padding: 0 0 0 0;\n",
              "      width: 32px;\n",
              "    }\n",
              "\n",
              "    .colab-df-convert:hover {\n",
              "      background-color: #E2EBFA;\n",
              "      box-shadow: 0px 1px 2px rgba(60, 64, 67, 0.3), 0px 1px 3px 1px rgba(60, 64, 67, 0.15);\n",
              "      fill: #174EA6;\n",
              "    }\n",
              "\n",
              "    [theme=dark] .colab-df-convert {\n",
              "      background-color: #3B4455;\n",
              "      fill: #D2E3FC;\n",
              "    }\n",
              "\n",
              "    [theme=dark] .colab-df-convert:hover {\n",
              "      background-color: #434B5C;\n",
              "      box-shadow: 0px 1px 3px 1px rgba(0, 0, 0, 0.15);\n",
              "      filter: drop-shadow(0px 1px 2px rgba(0, 0, 0, 0.3));\n",
              "      fill: #FFFFFF;\n",
              "    }\n",
              "  </style>\n",
              "\n",
              "      <script>\n",
              "        const buttonEl =\n",
              "          document.querySelector('#df-3075f29f-c0ac-4a9c-a414-38dcefca501f button.colab-df-convert');\n",
              "        buttonEl.style.display =\n",
              "          google.colab.kernel.accessAllowed ? 'block' : 'none';\n",
              "\n",
              "        async function convertToInteractive(key) {\n",
              "          const element = document.querySelector('#df-3075f29f-c0ac-4a9c-a414-38dcefca501f');\n",
              "          const dataTable =\n",
              "            await google.colab.kernel.invokeFunction('convertToInteractive',\n",
              "                                                     [key], {});\n",
              "          if (!dataTable) return;\n",
              "\n",
              "          const docLinkHtml = 'Like what you see? Visit the ' +\n",
              "            '<a target=\"_blank\" href=https://colab.research.google.com/notebooks/data_table.ipynb>data table notebook</a>'\n",
              "            + ' to learn more about interactive tables.';\n",
              "          element.innerHTML = '';\n",
              "          dataTable['output_type'] = 'display_data';\n",
              "          await google.colab.output.renderOutput(dataTable, element);\n",
              "          const docLink = document.createElement('div');\n",
              "          docLink.innerHTML = docLinkHtml;\n",
              "          element.appendChild(docLink);\n",
              "        }\n",
              "      </script>\n",
              "    </div>\n",
              "  </div>\n",
              "  "
            ]
          },
          "metadata": {},
          "execution_count": 15
        }
      ]
    },
    {
      "cell_type": "markdown",
      "metadata": {
        "id": "4NrveQA60PDz"
      },
      "source": [
        "5. Assess the intercorrelations among the numeric features in the dataset using a heatmap.\n",
        "\n",
        "2 pts."
      ]
    },
    {
      "cell_type": "code",
      "source": [
        "import numpy as np\n",
        "import matplotlib.pyplot as plt\n",
        "import seaborn as sns\n",
        "\n",
        "corr = df.corr()\n",
        "mask = np.triu(np.ones_like(corr, dtype=np.bool))\n",
        "cmap = sns.diverging_palette(220, 10, as_cmap=True)\n",
        "sns.heatmap(corr, mask=mask, cmap=cmap, vmax = 3, center=0, square=True,\n",
        "                   linewidth=.5, cbar_kws={\"shrink\": .5})"
      ],
      "metadata": {
        "colab": {
          "base_uri": "https://localhost:8080/",
          "height": 433
        },
        "id": "FsPevA9F6fEN",
        "outputId": "f2776e44-fbeb-4f24-fcfb-4d5b354b94b1"
      },
      "execution_count": null,
      "outputs": [
        {
          "output_type": "stream",
          "name": "stderr",
          "text": [
            "/usr/local/lib/python3.7/dist-packages/ipykernel_launcher.py:6: DeprecationWarning: `np.bool` is a deprecated alias for the builtin `bool`. To silence this warning, use `bool` by itself. Doing this will not modify any behavior and is safe. If you specifically wanted the numpy scalar type, use `np.bool_` here.\n",
            "Deprecated in NumPy 1.20; for more details and guidance: https://numpy.org/devdocs/release/1.20.0-notes.html#deprecations\n",
            "  \n"
          ]
        },
        {
          "output_type": "execute_result",
          "data": {
            "text/plain": [
              "<matplotlib.axes._subplots.AxesSubplot at 0x7f18c4ea4050>"
            ]
          },
          "metadata": {},
          "execution_count": 21
        },
        {
          "output_type": "display_data",
          "data": {
            "text/plain": [
              "<Figure size 432x288 with 2 Axes>"
            ],
            "image/png": "[encoded data removed]"
          },
          "metadata": {
            "needs_background": "light"
          }
        }
      ]
    },
    {
      "cell_type": "markdown",
      "metadata": {
        "id": "31sDLhch0iLq"
      },
      "source": [
        "6. Assess intercorrelations among bedrooms and bathrooms using a jointplot.\n",
        "\n",
        "2 pts."
      ]
    },
    {
      "cell_type": "code",
      "source": [
        "df.columns"
      ],
      "metadata": {
        "colab": {
          "base_uri": "https://localhost:8080/"
        },
        "id": "m0vYVO2H8aTL",
        "outputId": "3730cf90-3159-4ed3-ddd8-6de477ed2675"
      },
      "execution_count": null,
      "outputs": [
        {
          "output_type": "execute_result",
          "data": {
            "text/plain": [
              "Index(['SALE TYPE', 'SOLD DATE', 'PROPERTY TYPE', 'ADDRESS', 'CITY',\n",
              "       'STATE OR PROVINCE', 'ZIP OR POSTAL CODE', 'PRICE', 'BEDS', 'BATHS',\n",
              "       'LOCATION', 'SQUARE FEET', 'LOT SIZE', 'YEAR BUILT', 'DAYS ON MARKET',\n",
              "       '$/SQUARE FEET', 'HOA/MONTH', 'STATUS', 'NEXT OPEN HOUSE START TIME',\n",
              "       'NEXT OPEN HOUSE END TIME',\n",
              "       'URL (SEE https://www.redfin.com/buy-a-home/comparative-market-analysis FOR INFO ON PRICING)',\n",
              "       'SOURCE', 'MLS#', 'FAVORITE', 'INTERESTED', 'LATITUDE', 'LONGITUDE'],\n",
              "      dtype='object')"
            ]
          },
          "metadata": {},
          "execution_count": 23
        }
      ]
    },
    {
      "cell_type": "code",
      "source": [
        "sns.jointplot(x=\"BEDS\", y=\"BATHS\", data=df);"
      ],
      "metadata": {
        "colab": {
          "base_uri": "https://localhost:8080/",
          "height": 441
        },
        "id": "gvHciLvO8qSf",
        "outputId": "6f1df302-825b-429c-ddb6-48c691c22eda"
      },
      "execution_count": null,
      "outputs": [
        {
          "output_type": "display_data",
          "data": {
            "text/plain": [
              "<Figure size 432x432 with 3 Axes>"
            ],
            "image/png": "[encoded data removed]"
          },
          "metadata": {
            "needs_background": "light"
          }
        }
      ]
    },
    {
      "cell_type": "markdown",
      "metadata": {
        "id": "kUw5mKHixfzw"
      },
      "source": [
        "Based on the results above answer the following questions using a separate text cell.\n",
        "\n",
        "1. What is the target variable in this dataset? (2 pts.)\n",
        "2. Which fields have missing values and what is the proportion of missing values for each field (2 pts.)\n",
        "3. Are there categorical features that are represented by numbers? (2 pts.)\n",
        "4. Which (multinomial) fields would need to be dummy coded for modeling? (2 pts.)\n",
        "5. Is there evidence of multicollinearity (correlation among features)? (2 pts.)"
      ]
    },
    {
      "cell_type": "markdown",
      "source": [
        "1. Price is the target variable\n",
        "2. Sold date has about 64 percent of the data missing. Square feet has about 75 percent of the values missing. leading to Dollars per square foot to have the same result. The next open Start and End times only have 5 values out of the 109\n",
        "3. Out of the the data that was transposed none of the values were numbers representing catagorical values\n",
        "4. Maybe the Status of the house and Property type would need to be dummy coded for more accurate modeling\\\n",
        "5. The joint plot for Beds and Baths implies that there is a correlation between the two variables"
      ],
      "metadata": {
        "id": "dSYUzG0D-DgP"
      }
    }
  ]
}