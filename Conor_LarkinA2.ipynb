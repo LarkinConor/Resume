{
  "nbformat": 4,
  "nbformat_minor": 0,
  "metadata": {
    "colab": {
      "provenance": [],
      "authorship_tag": "ABX9TyMGKA/v0Xs6Md+8NahhTAv/",
      "include_colab_link": true
    },
    "kernelspec": {
      "name": "python3",
      "display_name": "Python 3"
    },
    "language_info": {
      "name": "python"
    }
  },
  "cells": [
    {
      "cell_type": "markdown",
      "metadata": {
        "id": "view-in-github",
        "colab_type": "text"
      },
      "source": [
        "<a href=\"https://colab.research.google.com/github/LarkinConor/Resume/blob/main/Conor_LarkinA2.ipynb\" target=\"_parent\"><img src=\"https://colab.research.google.com/assets/colab-badge.svg\" alt=\"Open In Colab\"/></a>"
      ]
    },
    {
      "cell_type": "code",
      "execution_count": null,
      "metadata": {
        "colab": {
          "base_uri": "https://localhost:8080/"
        },
        "id": "ikReRcK7J3G5",
        "outputId": "4045ce86-8d51-41af-e772-e0ed15dba61f"
      },
      "outputs": [
        {
          "output_type": "stream",
          "name": "stdout",
          "text": [
            "Looking in indexes: https://pypi.org/simple, https://us-python.pkg.dev/colab-wheels/public/simple/\n",
            "Collecting twython\n",
            "  Downloading twython-3.9.1-py3-none-any.whl (33 kB)\n",
            "Requirement already satisfied: requests-oauthlib>=0.4.0 in /usr/local/lib/python3.8/dist-packages (from twython) (1.3.1)\n",
            "Requirement already satisfied: requests>=2.1.0 in /usr/local/lib/python3.8/dist-packages (from twython) (2.25.1)\n",
            "Requirement already satisfied: certifi>=2017.4.17 in /usr/local/lib/python3.8/dist-packages (from requests>=2.1.0->twython) (2022.12.7)\n",
            "Requirement already satisfied: urllib3<1.27,>=1.21.1 in /usr/local/lib/python3.8/dist-packages (from requests>=2.1.0->twython) (1.24.3)\n",
            "Requirement already satisfied: chardet<5,>=3.0.2 in /usr/local/lib/python3.8/dist-packages (from requests>=2.1.0->twython) (4.0.0)\n",
            "Requirement already satisfied: idna<3,>=2.5 in /usr/local/lib/python3.8/dist-packages (from requests>=2.1.0->twython) (2.10)\n",
            "Requirement already satisfied: oauthlib>=3.0.0 in /usr/local/lib/python3.8/dist-packages (from requests-oauthlib>=0.4.0->twython) (3.2.2)\n",
            "Installing collected packages: twython\n",
            "Successfully installed twython-3.9.1\n"
          ]
        }
      ],
      "source": [
        "!pip install twython"
      ]
    },
    {
      "cell_type": "code",
      "source": [
        "from twython import Twython"
      ],
      "metadata": {
        "id": "xDPjm-29KfT4"
      },
      "execution_count": null,
      "outputs": []
    },
    {
      "cell_type": "code",
      "source": [
        "api_key = \"EfLc9rrSneoAhyR1iLHDM69M1\"\n",
        "api_secret = \"hwFh90NXkoi8jW7fBNOlIU9N4KwexD0NxeoCeAE8zu7jfeCOYR\"\n",
        "access_token_key = \"1617968766129766411-d5nTlIjifG5wVRA7Et1B5d1S0TYg0Y\"\n",
        "access_token_secret = \"G6GmAOZAQTMUkhsUcrMRt2MaXVJf6Qc6L8a2R9zcm25kG\""
      ],
      "metadata": {
        "id": "p58rVHXXKonZ"
      },
      "execution_count": null,
      "outputs": []
    },
    {
      "cell_type": "code",
      "source": [
        "t = Twython(app_key=api_key, app_secret=api_secret, oauth_token=access_token_key, \n",
        "           oauth_token_secret=access_token_secret)"
      ],
      "metadata": {
        "id": "MqNwva8aKotQ"
      },
      "execution_count": null,
      "outputs": []
    },
    {
      "cell_type": "code",
      "source": [
        "search_results_mavs = t.search(q='mavericks', count=100)"
      ],
      "metadata": {
        "id": "YfF5U5N_KoyD"
      },
      "execution_count": null,
      "outputs": []
    },
    {
      "cell_type": "code",
      "source": [
        "tweets_mavs = search_results_mavs['statuses']"
      ],
      "metadata": {
        "id": "lu4QFdrrLFN2"
      },
      "execution_count": null,
      "outputs": []
    },
    {
      "cell_type": "code",
      "source": [
        "for tweet in tweets_mavs:\n",
        "    print(tweet['text'])"
      ],
      "metadata": {
        "colab": {
          "base_uri": "https://localhost:8080/"
        },
        "id": "vhBQp2x9LLZJ",
        "outputId": "9c4f44da-04ef-4e99-f821-e9075b061b47"
      },
      "execution_count": null,
      "outputs": [
        {
          "output_type": "stream",
          "name": "stdout",
          "text": [
            "Kyrie Irving claims he was ‘disrespected’ by Nets https://t.co/cchROqw5P7\n",
            "Kyrie Irving trade rumors: Lakers, Mavericks reluctant to commit long-term to mercurial star, per report\n",
            "https://t.co/Gv61FgEeje\n",
            "RT @_AJReilly: #KyrieIrving Irving traded to the Dallas Mavericks for ... sixth grader? \n",
            "\n",
            "📽️: https://t.co/l29ayff5Tm\n",
            "\n",
            "@IAmEricVincent with…\n",
            "RT @MunkFruit: The Dallas Mavericks best move is to make this trade for Deandre Ayton. \n",
            "\n",
            "The Mavs would have to give up Christian Wood &amp; Ti…\n",
            "¡MIÉRCOLES DE #NBAxESPN!\n",
            "\n",
            "Disfruta de los siguientes duelos:\n",
            "Celtics vs. 76ERS\n",
            "Clippers vs. Mavericks https://t.co/VymxetOb0M\n",
            "@_Lethiwe_ was supposed to come to the lakers and he went to the mavericks i’m not jacking that🐍\n",
            "How are we feeling after that one #MavsCountry? https://t.co/onbiXIWMbK\n",
            "RT @MegaMan: Mega Man X dashes on to Android! Join X as he hunts Mavericks and begins to unlock his true potential in his very first advent…\n",
            "Kyrie Irving Shines In Mavericks Practice Debut, Throws Sweet Alley-Oop\n",
            "https://t.co/VzzFJ4pyFg https://t.co/uytQHUNOiS\n",
            "RT @FOXSportsMX: 🤬'SENTÍ QUE ME FALTARON MUCHO AL RESPETO'\n",
            "\n",
            "Kyrie Irving expresó su molestia con Brooklyn Nets, después de incorporarse a D…\n",
            "LeBron James is poised to pass Kareem Abdul-Jabbar on the NBA's all-time scoring list, as he needs 36 points in the… https://t.co/UjQ1T3zY4j\n",
            "Kyrie Irving was traded from the Brooklyn Nets and will soon take the court with the Dallas Mavericks. He spoke to… https://t.co/4XKio7Dqkg\n",
            "RT @MegaMan: Mega Man X dashes on to Android! Join X as he hunts Mavericks and begins to unlock his true potential in his very first advent…\n",
            "RT @FirstTake: .@stephenasmith says the Mavericks are in a \"very potent situation\" when it comes to the Luka-Kyrie duo.\n",
            "\n",
            "\"Why would Kyrie t…\n",
            "@kingCON_sol Mavericks 😅\n",
            "If Dallas mavericks trade for bol bol bro 😂😂😂\n",
            "RT @FirstTake: .@stephenasmith says the Mavericks are in a \"very potent situation\" when it comes to the Luka-Kyrie duo.\n",
            "\n",
            "\"Why would Kyrie t…\n",
            "RT @LouallenDoc: The Dallas Mavericks are interested in acquiring Phoenix Suns center Deandre Ayton. Christian Wood &amp; Tim Hardaway Jr. have…\n",
            "Kyrie Irving trade grades: Mavericks earn high marks for landing All-Star point guard from Nets\n",
            "https://t.co/SVcSXsgGs0\n",
            "If the pitcher ever hits u w the ball rush his ass &amp; hit him w a spear jab, slip left, left hook, roll, then liver… https://t.co/mxVWWOLhh0\n",
            "Coach Jason Kidd | Kyrie Irving Trade | PRESS CONFERENCE #Dallas #Mavericks #NBA Video: https://t.co/4jfFjUUa5V\n",
            "RT @CallieCaplan: Kyrie Irving confirms he deleted his Instagram apology for sharing an antisemitic film:\n",
            "\n",
            "\"I delete things all the time,\"…\n",
            "RT @NFL_DovKleiman: NFL players live reaction to the Kyrie Irving trade to the Dallas Mavericks from the Pro-Bowl\n",
            "\n",
            "\"Why didn't he go the La…\n",
            "RT @ShamsCharania: Kyrie Irving ➡️ Dallas Mavericks. https://t.co/2l1Vp1bTgW\n",
            "RT @Farbod_E: Hi, Hello\n",
            "\n",
            "Kawhi Leonard and Paul George are playing against the Mavericks. The only player out is John Wall.\n",
            "\n",
            "Have a nice da…\n",
            "@KDametime @DallasMavsFr @NuggetsFra On est tous d’accord avec Dallas Mavericks France côté MFFFL 😉\n",
            "RT @tipico: NBA TRADE NEWS:\n",
            "\n",
            "The Brooklyn Nets are trading Kyrie Irving to the Dallas Mavericks.\n",
            "\n",
            "The Mavericks are sending Dorian Finney-S…\n",
            "Kyrie Irving is glad to make a new start with the Dallas Mavericks after engineering a move away from the Brooklyn… https://t.co/zqiBkaLjh1\n",
            "won this one as ONE https://t.co/tU99oWxj6N\n",
            "@kc_mavericks Ez\n",
            "RT @LouallenDoc: The Dallas Mavericks are interested in acquiring Phoenix Suns center Deandre Ayton. Christian Wood &amp; Tim Hardaway Jr. have…\n",
            "⁦@kc_mavericks⁩ top Wichita as Shane Starrett stars in net and Pascal Laberge continues his red-hot offense. Mavs w… https://t.co/jhOqASFhN3\n",
            "#sources Dallas Mavericks looking to trade Kyrie Irving, multiple unprotected 1st round picks to the Brooklyn Nets… https://t.co/hgebRgYdY5\n",
            "Kyrie Irving Pindah ke Tim Dallas Mavericks, Ini Lika-liku Perjalanan Karir Uncle Draw\n",
            "\n",
            "#KyrieIrving \n",
            "https://t.co/0dbJMfNuCK\n",
            "RT @LouallenDoc: The Dallas Mavericks are interested in acquiring Phoenix Suns center Deandre Ayton. Christian Wood &amp; Tim Hardaway Jr. have…\n",
            "Mavericks take the first game but we play them 2 more times this weekend so they better come prepared for a fight! https://t.co/ih6Jpzrl7q\n",
            "@JalenRose What if, Kyrie and Love didn't get hurt? What if, LeBron knew he was better than the Mavericks and acted… https://t.co/vpOYGxYqV3\n",
            "RT @WeLikeSportzPC: Twitter Reacts to Trade Involving Kyrie Irving and the Dallas Mavericks. #NBATradeDeadline #NetsWorld #MFFL https://t.c…\n",
            "THIS. CHANGES. EVERYTHING. https://t.co/6AWZvd9fH5\n",
            "RT @KevinGraySports: Can the Mavericks do with Kyrie Irving what the Raptors couldn’t ultimately do with Kawhi Leonard after they traded fo…\n",
            "Kyrie Irving 1st practice with the Mavericks https://t.co/fzFqkQAs9h\n",
            "Timberwolves vs Mavericks game Monday is going to be insane. I’ll be there @ AAC in downtown dallas. It’s kinda lik… https://t.co/Lb8Q1wzIpx\n",
            "RT @CBAMavs: What advantage is there to let the 2023 pick to the Knicks convey and NOT trading any future 1sts now?\n",
            "- 2023 conveys\n",
            "- Mavs c…\n",
            "RT @Rachel__Nichols: Kyrie Irving’s first practice with the Mavericks: https://t.co/fLPwuufEyL\n",
            "RT @MazurFocus: ESPN doesn’t want the Dallas Mavericks to be good. This isn’t new. They hate talking about the Mavericks, or any other team…\n",
            "RT @LouallenDoc: The Dallas Mavericks are interested in acquiring Phoenix Suns center Deandre Ayton. Christian Wood &amp; Tim Hardaway Jr. have…\n",
            "RT @MegaMan: Mega Man X dashes on to Android! Join X as he hunts Mavericks and begins to unlock his true potential in his very first advent…\n",
            "What advantage is there to let the 2023 pick to the Knicks convey and NOT trading any future 1sts now?\n",
            "- 2023 conve… https://t.co/rxqDZcjTjj\n",
            "USA STORE ONLY:\n",
            "\n",
            "Dallas Mavericks - Ultra Game NBA Supreme Long Sleeve Pullover T-Shirt\n",
            "\n",
            "https://t.co/VMHcKlHlcC… https://t.co/F5zMD4bXHG\n",
            "RT @NFL_DovKleiman: NFL players live reaction to the Kyrie Irving trade to the Dallas Mavericks from the Pro-Bowl\n",
            "\n",
            "\"Why didn't he go the La…\n",
            "RT @townbrad: Irving said he was playing pickup in his New Jersey hometown when his agent called, saying the Mavericks acquired him. He sai…\n",
            "RT @townbrad: Irving said he was playing pickup in his New Jersey hometown when his agent called, saying the Mavericks acquired him. He sai…\n",
            "RT @LouallenDoc: The Dallas Mavericks are interested in acquiring Phoenix Suns center Deandre Ayton. Christian Wood &amp; Tim Hardaway Jr. have…\n",
            "RT @MavsFansForLife: VIDEO: Kyrie Irving Dallas Mavericks Introduction Press Conference \n",
            " https://t.co/dELv4O4mlQ\n",
            "From @CallieCaplan:\n",
            "\n",
            "Kyrie Irving’s whirlwind path to Mavericks: Disbelief, exhaustion and prep for Luka Doncic https://t.co/V1xBMCWbdW\n",
            "sigo sin entender como kyrie termino en los mavericks\n",
            "The 10 words that jenniferleeanng repeats the most on Twitter:\n",
            "1) #NASCAR\n",
            "2) Kyrie\n",
            "3) race\n",
            "4) Irving\n",
            "5) Luka\n",
            "6) sea… https://t.co/LvbKVm9i5N\n",
            "Drop the hammer, we beat the Thunder tonight for back to back wins 🤙 https://t.co/RImWBHOrni\n",
            "RT @NFL_DovKleiman: NFL players live reaction to the Kyrie Irving trade to the Dallas Mavericks from the Pro-Bowl\n",
            "\n",
            "\"Why didn't he go the La…\n",
            "@kc_mavericks https://t.co/FcipZGfFT0\n",
            "@drikaaevarini A franquia Dallas Mavericks adora um mau-caráter, vai combinar.\n",
            "Final: @kc_mavericks 5, @Wichita_Thunder 1. Ryan Harrison/@harry2261 &amp; Pascal Laberge G,A; Tommy Muck/@tmuck02 2A;… https://t.co/YCwyViyju0\n",
            "I think I underrated the mavericks\n",
            "\n",
            "Luka \n",
            "Kyrie \n",
            "Josh green\n",
            "Jalen Hardy\n",
            "Christian wood/maxi/powell\n",
            "\n",
            "Doesn’t sound that bad any more\n",
            "MAVS WIN\n",
            "DIA DE DALLAS MAVERICKS HJ TBM EM \n",
            "\n",
            "ESTREIA DO IRVING 🔥🔥\n",
            "We’ve had ✌️ short handed goals tonight\n",
            "RT @Rachel__Nichols: Kyrie Irving in his first press conference since the trade says he felt “disrespected” by the Nets and wishes that he…\n",
            "Mavericks score again\n",
            "2-7-23\n",
            "Kyrie Irving says he felt 'disrespected' by Nets after trade to Mavericks https://t.co/2urazvnX8D\n",
            "LAMMON FINDS THE EMPTY NET\n",
            "Kyrie Irving is glad to make a new start with the Dallas Mavericks after engineering a move away from the Brooklyn… https://t.co/xdnYGp92GK\n",
            "NFL: Dallas Cowboys\n",
            "NBA: Dallas Mavericks\n",
            "MLB: Texas Rangers\n",
            "NHL: Dallas Stars\n",
            "NCAA: n/a https://t.co/th9LRK0qWH\n",
            "RT @townbrad: Irving said he was playing pickup in his New Jersey hometown when his agent called, saying the Mavericks acquired him. He sai…\n",
            "Wichita’s net is empty\n",
            "Muck to the 📦\n",
            "RT @beforewashjosh: KYRIE GOING TO THE MAVERICKS (ion what that means fr i just wanna be included)\n",
            "RT @tipico: NBA TRADE NEWS:\n",
            "\n",
            "The Brooklyn Nets are trading Kyrie Irving to the Dallas Mavericks.\n",
            "\n",
            "The Mavericks are sending Dorian Finney-S…\n",
            "35 SAVES SO FAR BY STARRETT TONIGHT https://t.co/8uQtd7BPOY\n",
            "RT @MegaMan: Mega Man X dashes on to Android! Join X as he hunts Mavericks and begins to unlock his true potential in his very first advent…\n",
            "RT @SFL_Mavericks: Jonesing for a San Diego Mavericks fix during the Week 5 bye? Head on over to San Diego's new Trick Jerseys store and pi…\n",
            "RT @MazurFocus: ESPN doesn’t want the Dallas Mavericks to be good. This isn’t new. They hate talking about the Mavericks, or any other team…\n",
            "\"I just know I want to be places where I want to be celebrated and not just tolerated or kind of dealt with in a wa… https://t.co/ghP0SygXYX\n",
            "How much did #KyrieIrving receive from the #BrooklynNets after being traded to the #DallasMavericks?🧐💸\n",
            "\n",
            "#NBA \n",
            "https://t.co/AbcZoUGQcL\n",
            "Nuggets vs. Mavericks: How to watch NBA online, TV channel, live stream info, game time\n",
            "https://t.co/DZTWRjRdps\n",
            "RT @mavericks66: 東北660シリーズ　2023年の規則書などを公開 を投稿しました。 #エキサイトブログ\n",
            "https://t.co/3R8RyI6cTl https://t.co/4HiEkPpeAh\n",
            "“There were times throughout this process when I was in Brooklyn where I felt very disrespected,” Irving said. “...… https://t.co/bGMDNk8vX9\n",
            "RT @Farbod_E: Hi, Hello\n",
            "\n",
            "Kawhi Leonard and Paul George are playing against the Mavericks. The only player out is John Wall.\n",
            "\n",
            "Have a nice da…\n",
            "I don’t like this quote at all… it’s the Dallas Mavericks… not the Dallas Lukas https://t.co/xYzuGRNPzT\n",
            "RT @sixfivelando: The Dallas Mavericks backcourt includes Luka Dončić, Kyrie Irving, Josh Green and Jaden Hardy. https://t.co/UjTI9axp1g\n",
            "RT @CallieCaplan: More reaction here, from Maxi Kleber in a coffee shop to Theo Pinson who had just finished a meal with Dorian Finney-Smit…\n",
            "RT @benpatterson33: the dallas mavericks need makhi mitchell\n",
            "5:40 3rd | 🐴 4, 🌩 1\n",
            "@MadScientistFF Dolphins, Mavericks, Texas Rangers, Dallas Stars and Florida gators\n",
            "RT @townbrad: Irving said he was playing pickup in his New Jersey hometown when his agent called, saying the Mavericks acquired him. He sai…\n",
            "RT @MegaMan: Mega Man X dashes on to Android! Join X as he hunts Mavericks and begins to unlock his true potential in his very first advent…\n",
            "Back to back games with goals for Harry and the lead is 3️⃣ https://t.co/Vrm3GKzw1D\n",
            "@Ardanilp mavericks jaya jaya jaya pokoknya lah\n",
            "The trade of @SDinwiddie_25 by @dallasmavs was cold. It says loud &amp; clear Mavericks &amp; their owner, @mcuban, who is… https://t.co/8oVSylWfaI\n",
            "RT @neverbeenequal: 🚨 BREAKING NEWS: Kyrie Irving traded to the Dallas Mavericks 🚨\n",
            "\n",
            "*Cam Thomas* https://t.co/eQeMG5Dl0M\n",
            "the dallas mavericks need makhi mitchell\n"
          ]
        }
      ]
    },
    {
      "cell_type": "code",
      "source": [
        "import csv"
      ],
      "metadata": {
        "id": "2Yxw6bnsLtW1"
      },
      "execution_count": null,
      "outputs": []
    },
    {
      "cell_type": "code",
      "source": [
        "with open('recent_tweets_mavs.csv', 'w', newline='') as csvfile:\n",
        "    wf = csv.writer(csvfile, delimiter=',',\n",
        "                            quotechar='\"')\n",
        "    \n",
        "    for tweet in tweets_mavs:\n",
        "        wf.writerow(['mavericks', tweet['text'].encode(\"utf-8\")])"
      ],
      "metadata": {
        "id": "YGVICooYLPCQ"
      },
      "execution_count": null,
      "outputs": []
    },
    {
      "cell_type": "code",
      "source": [
        "import pandas as pd\n",
        "df = pd.read_csv(\"recent_tweets_mavs.csv\")"
      ],
      "metadata": {
        "id": "JG2ZM1vlL7C-"
      },
      "execution_count": null,
      "outputs": []
    },
    {
      "cell_type": "code",
      "source": [
        "df.drop(columns=['mavericks'], inplace=True)\n",
        "\n",
        "print(df)"
      ],
      "metadata": {
        "colab": {
          "base_uri": "https://localhost:8080/",
          "height": 371
        },
        "id": "twEv-P4HQC-i",
        "outputId": "75173705-c7d2-4c5d-82ce-6d1ff91e994c"
      },
      "execution_count": null,
      "outputs": [
        {
          "output_type": "error",
          "ename": "KeyError",
          "evalue": "ignored",
          "traceback": [
            "\u001b[0;31m---------------------------------------------------------------------------\u001b[0m",
            "\u001b[0;31mKeyError\u001b[0m                                  Traceback (most recent call last)",
            "\u001b[0;32m<ipython-input-28-47a90e11e02c>\u001b[0m in \u001b[0;36m<module>\u001b[0;34m\u001b[0m\n\u001b[0;32m----> 1\u001b[0;31m \u001b[0mdf\u001b[0m\u001b[0;34m.\u001b[0m\u001b[0mdrop\u001b[0m\u001b[0;34m(\u001b[0m\u001b[0mcolumns\u001b[0m\u001b[0;34m=\u001b[0m\u001b[0;34m[\u001b[0m\u001b[0;34m'mavericks'\u001b[0m\u001b[0;34m]\u001b[0m\u001b[0;34m,\u001b[0m \u001b[0minplace\u001b[0m\u001b[0;34m=\u001b[0m\u001b[0;32mTrue\u001b[0m\u001b[0;34m)\u001b[0m\u001b[0;34m\u001b[0m\u001b[0;34m\u001b[0m\u001b[0m\n\u001b[0m\u001b[1;32m      2\u001b[0m \u001b[0;34m\u001b[0m\u001b[0m\n\u001b[1;32m      3\u001b[0m \u001b[0mprint\u001b[0m\u001b[0;34m(\u001b[0m\u001b[0mdf\u001b[0m\u001b[0;34m)\u001b[0m\u001b[0;34m\u001b[0m\u001b[0;34m\u001b[0m\u001b[0m\n",
            "\u001b[0;32m/usr/local/lib/python3.8/dist-packages/pandas/util/_decorators.py\u001b[0m in \u001b[0;36mwrapper\u001b[0;34m(*args, **kwargs)\u001b[0m\n\u001b[1;32m    309\u001b[0m                     \u001b[0mstacklevel\u001b[0m\u001b[0;34m=\u001b[0m\u001b[0mstacklevel\u001b[0m\u001b[0;34m,\u001b[0m\u001b[0;34m\u001b[0m\u001b[0;34m\u001b[0m\u001b[0m\n\u001b[1;32m    310\u001b[0m                 )\n\u001b[0;32m--> 311\u001b[0;31m             \u001b[0;32mreturn\u001b[0m \u001b[0mfunc\u001b[0m\u001b[0;34m(\u001b[0m\u001b[0;34m*\u001b[0m\u001b[0margs\u001b[0m\u001b[0;34m,\u001b[0m \u001b[0;34m**\u001b[0m\u001b[0mkwargs\u001b[0m\u001b[0;34m)\u001b[0m\u001b[0;34m\u001b[0m\u001b[0;34m\u001b[0m\u001b[0m\n\u001b[0m\u001b[1;32m    312\u001b[0m \u001b[0;34m\u001b[0m\u001b[0m\n\u001b[1;32m    313\u001b[0m         \u001b[0;32mreturn\u001b[0m \u001b[0mwrapper\u001b[0m\u001b[0;34m\u001b[0m\u001b[0;34m\u001b[0m\u001b[0m\n",
            "\u001b[0;32m/usr/local/lib/python3.8/dist-packages/pandas/core/frame.py\u001b[0m in \u001b[0;36mdrop\u001b[0;34m(self, labels, axis, index, columns, level, inplace, errors)\u001b[0m\n\u001b[1;32m   4904\u001b[0m                 \u001b[0mweight\u001b[0m  \u001b[0;36m1.0\u001b[0m     \u001b[0;36m0.8\u001b[0m\u001b[0;34m\u001b[0m\u001b[0;34m\u001b[0m\u001b[0m\n\u001b[1;32m   4905\u001b[0m         \"\"\"\n\u001b[0;32m-> 4906\u001b[0;31m         return super().drop(\n\u001b[0m\u001b[1;32m   4907\u001b[0m             \u001b[0mlabels\u001b[0m\u001b[0;34m=\u001b[0m\u001b[0mlabels\u001b[0m\u001b[0;34m,\u001b[0m\u001b[0;34m\u001b[0m\u001b[0;34m\u001b[0m\u001b[0m\n\u001b[1;32m   4908\u001b[0m             \u001b[0maxis\u001b[0m\u001b[0;34m=\u001b[0m\u001b[0maxis\u001b[0m\u001b[0;34m,\u001b[0m\u001b[0;34m\u001b[0m\u001b[0;34m\u001b[0m\u001b[0m\n",
            "\u001b[0;32m/usr/local/lib/python3.8/dist-packages/pandas/core/generic.py\u001b[0m in \u001b[0;36mdrop\u001b[0;34m(self, labels, axis, index, columns, level, inplace, errors)\u001b[0m\n\u001b[1;32m   4148\u001b[0m         \u001b[0;32mfor\u001b[0m \u001b[0maxis\u001b[0m\u001b[0;34m,\u001b[0m \u001b[0mlabels\u001b[0m \u001b[0;32min\u001b[0m \u001b[0maxes\u001b[0m\u001b[0;34m.\u001b[0m\u001b[0mitems\u001b[0m\u001b[0;34m(\u001b[0m\u001b[0;34m)\u001b[0m\u001b[0;34m:\u001b[0m\u001b[0;34m\u001b[0m\u001b[0;34m\u001b[0m\u001b[0m\n\u001b[1;32m   4149\u001b[0m             \u001b[0;32mif\u001b[0m \u001b[0mlabels\u001b[0m \u001b[0;32mis\u001b[0m \u001b[0;32mnot\u001b[0m \u001b[0;32mNone\u001b[0m\u001b[0;34m:\u001b[0m\u001b[0;34m\u001b[0m\u001b[0;34m\u001b[0m\u001b[0m\n\u001b[0;32m-> 4150\u001b[0;31m                 \u001b[0mobj\u001b[0m \u001b[0;34m=\u001b[0m \u001b[0mobj\u001b[0m\u001b[0;34m.\u001b[0m\u001b[0m_drop_axis\u001b[0m\u001b[0;34m(\u001b[0m\u001b[0mlabels\u001b[0m\u001b[0;34m,\u001b[0m \u001b[0maxis\u001b[0m\u001b[0;34m,\u001b[0m \u001b[0mlevel\u001b[0m\u001b[0;34m=\u001b[0m\u001b[0mlevel\u001b[0m\u001b[0;34m,\u001b[0m \u001b[0merrors\u001b[0m\u001b[0;34m=\u001b[0m\u001b[0merrors\u001b[0m\u001b[0;34m)\u001b[0m\u001b[0;34m\u001b[0m\u001b[0;34m\u001b[0m\u001b[0m\n\u001b[0m\u001b[1;32m   4151\u001b[0m \u001b[0;34m\u001b[0m\u001b[0m\n\u001b[1;32m   4152\u001b[0m         \u001b[0;32mif\u001b[0m \u001b[0minplace\u001b[0m\u001b[0;34m:\u001b[0m\u001b[0;34m\u001b[0m\u001b[0;34m\u001b[0m\u001b[0m\n",
            "\u001b[0;32m/usr/local/lib/python3.8/dist-packages/pandas/core/generic.py\u001b[0m in \u001b[0;36m_drop_axis\u001b[0;34m(self, labels, axis, level, errors)\u001b[0m\n\u001b[1;32m   4183\u001b[0m                 \u001b[0mnew_axis\u001b[0m \u001b[0;34m=\u001b[0m \u001b[0maxis\u001b[0m\u001b[0;34m.\u001b[0m\u001b[0mdrop\u001b[0m\u001b[0;34m(\u001b[0m\u001b[0mlabels\u001b[0m\u001b[0;34m,\u001b[0m \u001b[0mlevel\u001b[0m\u001b[0;34m=\u001b[0m\u001b[0mlevel\u001b[0m\u001b[0;34m,\u001b[0m \u001b[0merrors\u001b[0m\u001b[0;34m=\u001b[0m\u001b[0merrors\u001b[0m\u001b[0;34m)\u001b[0m\u001b[0;34m\u001b[0m\u001b[0;34m\u001b[0m\u001b[0m\n\u001b[1;32m   4184\u001b[0m             \u001b[0;32melse\u001b[0m\u001b[0;34m:\u001b[0m\u001b[0;34m\u001b[0m\u001b[0;34m\u001b[0m\u001b[0m\n\u001b[0;32m-> 4185\u001b[0;31m                 \u001b[0mnew_axis\u001b[0m \u001b[0;34m=\u001b[0m \u001b[0maxis\u001b[0m\u001b[0;34m.\u001b[0m\u001b[0mdrop\u001b[0m\u001b[0;34m(\u001b[0m\u001b[0mlabels\u001b[0m\u001b[0;34m,\u001b[0m \u001b[0merrors\u001b[0m\u001b[0;34m=\u001b[0m\u001b[0merrors\u001b[0m\u001b[0;34m)\u001b[0m\u001b[0;34m\u001b[0m\u001b[0;34m\u001b[0m\u001b[0m\n\u001b[0m\u001b[1;32m   4186\u001b[0m             \u001b[0mresult\u001b[0m \u001b[0;34m=\u001b[0m \u001b[0mself\u001b[0m\u001b[0;34m.\u001b[0m\u001b[0mreindex\u001b[0m\u001b[0;34m(\u001b[0m\u001b[0;34m**\u001b[0m\u001b[0;34m{\u001b[0m\u001b[0maxis_name\u001b[0m\u001b[0;34m:\u001b[0m \u001b[0mnew_axis\u001b[0m\u001b[0;34m}\u001b[0m\u001b[0;34m)\u001b[0m\u001b[0;34m\u001b[0m\u001b[0;34m\u001b[0m\u001b[0m\n\u001b[1;32m   4187\u001b[0m \u001b[0;34m\u001b[0m\u001b[0m\n",
            "\u001b[0;32m/usr/local/lib/python3.8/dist-packages/pandas/core/indexes/base.py\u001b[0m in \u001b[0;36mdrop\u001b[0;34m(self, labels, errors)\u001b[0m\n\u001b[1;32m   6015\u001b[0m         \u001b[0;32mif\u001b[0m \u001b[0mmask\u001b[0m\u001b[0;34m.\u001b[0m\u001b[0many\u001b[0m\u001b[0;34m(\u001b[0m\u001b[0;34m)\u001b[0m\u001b[0;34m:\u001b[0m\u001b[0;34m\u001b[0m\u001b[0;34m\u001b[0m\u001b[0m\n\u001b[1;32m   6016\u001b[0m             \u001b[0;32mif\u001b[0m \u001b[0merrors\u001b[0m \u001b[0;34m!=\u001b[0m \u001b[0;34m\"ignore\"\u001b[0m\u001b[0;34m:\u001b[0m\u001b[0;34m\u001b[0m\u001b[0;34m\u001b[0m\u001b[0m\n\u001b[0;32m-> 6017\u001b[0;31m                 \u001b[0;32mraise\u001b[0m \u001b[0mKeyError\u001b[0m\u001b[0;34m(\u001b[0m\u001b[0;34mf\"{labels[mask]} not found in axis\"\u001b[0m\u001b[0;34m)\u001b[0m\u001b[0;34m\u001b[0m\u001b[0;34m\u001b[0m\u001b[0m\n\u001b[0m\u001b[1;32m   6018\u001b[0m             \u001b[0mindexer\u001b[0m \u001b[0;34m=\u001b[0m \u001b[0mindexer\u001b[0m\u001b[0;34m[\u001b[0m\u001b[0;34m~\u001b[0m\u001b[0mmask\u001b[0m\u001b[0;34m]\u001b[0m\u001b[0;34m\u001b[0m\u001b[0;34m\u001b[0m\u001b[0m\n\u001b[1;32m   6019\u001b[0m         \u001b[0;32mreturn\u001b[0m \u001b[0mself\u001b[0m\u001b[0;34m.\u001b[0m\u001b[0mdelete\u001b[0m\u001b[0;34m(\u001b[0m\u001b[0mindexer\u001b[0m\u001b[0;34m)\u001b[0m\u001b[0;34m\u001b[0m\u001b[0;34m\u001b[0m\u001b[0m\n",
            "\u001b[0;31mKeyError\u001b[0m: \"['mavericks'] not found in axis\""
          ]
        }
      ]
    },
    {
      "cell_type": "code",
      "source": [
        "df = df.applymap(lambda x: x[1:] if isinstance(x, str) else x)"
      ],
      "metadata": {
        "id": "8mZB7OUsTn38"
      },
      "execution_count": null,
      "outputs": []
    },
    {
      "cell_type": "code",
      "source": [
        "csv_string = df.to_csv(index=False)\n",
        "print(csv_string)"
      ],
      "metadata": {
        "colab": {
          "base_uri": "https://localhost:8080/"
        },
        "id": "a3rh-6E2QljJ",
        "outputId": "4d65069e-9e7d-4770-f1b9-541aa6c3ab1e"
      },
      "execution_count": null,
      "outputs": [
        {
          "output_type": "stream",
          "name": "stdout",
          "text": [
            "b'Kyrie Irving claims he was \\xe2\\x80\\x98disrespected\\xe2\\x80\\x99 by Nets https://t.co/cchROqw5P7'\n",
            "\"'Kyrie Irving trade rumors: Lakers, Mavericks reluctant to commit long-term to mercurial star, per report\\nhttps://t.co/Gv61FgEeje'\"\n",
            "'RT @_AJReilly: #KyrieIrving Irving traded to the Dallas Mavericks for ... sixth grader? \\n\\n\\xf0\\x9f\\x93\\xbd\\xef\\xb8\\x8f: https://t.co/l29ayff5Tm\\n\\n@IAmEricVincent with\\xe2\\x80\\xa6'\n",
            "'RT @MunkFruit: The Dallas Mavericks best move is to make this trade for Deandre Ayton. \\n\\nThe Mavs would have to give up Christian Wood &amp; Ti\\xe2\\x80\\xa6'\n",
            "'\\xc2\\xa1MI\\xc3\\x89RCOLES DE #NBAxESPN!\\n\\nDisfruta de los siguientes duelos:\\nCeltics vs. 76ERS\\nClippers vs. Mavericks https://t.co/VymxetOb0M'\n",
            "'@_Lethiwe_ was supposed to come to the lakers and he went to the mavericks i\\xe2\\x80\\x99m not jacking that\\xf0\\x9f\\x90\\x8d'\n",
            "'How are we feeling after that one #MavsCountry? https://t.co/onbiXIWMbK'\n",
            "'RT @MegaMan: Mega Man X dashes on to Android! Join X as he hunts Mavericks and begins to unlock his true potential in his very first advent\\xe2\\x80\\xa6'\n",
            "\"'Kyrie Irving Shines In Mavericks Practice Debut, Throws Sweet Alley-Oop\\nhttps://t.co/VzzFJ4pyFg https://t.co/uytQHUNOiS'\"\n",
            "\"\"\"RT @FOXSportsMX: \\xf0\\x9f\\xa4\\xac'SENT\\xc3\\x8d QUE ME FALTARON MUCHO AL RESPETO'\\n\\nKyrie Irving expres\\xc3\\xb3 su molestia con Brooklyn Nets, despu\\xc3\\xa9s de incorporarse a D\\xe2\\x80\\xa6\"\"\"\n",
            "\"\"\"LeBron James is poised to pass Kareem Abdul-Jabbar on the NBA's all-time scoring list, as he needs 36 points in the\\xe2\\x80\\xa6 https://t.co/UjQ1T3zY4j\"\"\"\n",
            "'Kyrie Irving was traded from the Brooklyn Nets and will soon take the court with the Dallas Mavericks. He spoke to\\xe2\\x80\\xa6 https://t.co/4XKio7Dqkg'\n",
            "'RT @MegaMan: Mega Man X dashes on to Android! Join X as he hunts Mavericks and begins to unlock his true potential in his very first advent\\xe2\\x80\\xa6'\n",
            "\"'RT @FirstTake: .@stephenasmith says the Mavericks are in a \"\"very potent situation\"\" when it comes to the Luka-Kyrie duo.\\n\\n\"\"Why would Kyrie t\\xe2\\x80\\xa6'\"\n",
            "'@kingCON_sol Mavericks \\xf0\\x9f\\x98\\x85'\n",
            "'If Dallas mavericks trade for bol bol bro \\xf0\\x9f\\x98\\x82\\xf0\\x9f\\x98\\x82\\xf0\\x9f\\x98\\x82'\n",
            "\"'RT @FirstTake: .@stephenasmith says the Mavericks are in a \"\"very potent situation\"\" when it comes to the Luka-Kyrie duo.\\n\\n\"\"Why would Kyrie t\\xe2\\x80\\xa6'\"\n",
            "'RT @LouallenDoc: The Dallas Mavericks are interested in acquiring Phoenix Suns center Deandre Ayton. Christian Wood &amp; Tim Hardaway Jr. have\\xe2\\x80\\xa6'\n",
            "'Kyrie Irving trade grades: Mavericks earn high marks for landing All-Star point guard from Nets\\nhttps://t.co/SVcSXsgGs0'\n",
            "\"'If the pitcher ever hits u w the ball rush his ass &amp; hit him w a spear jab, slip left, left hook, roll, then liver\\xe2\\x80\\xa6 https://t.co/mxVWWOLhh0'\"\n",
            "'Coach Jason Kidd | Kyrie Irving Trade | PRESS CONFERENCE #Dallas #Mavericks #NBA Video: https://t.co/4jfFjUUa5V'\n",
            "\"'RT @CallieCaplan: Kyrie Irving confirms he deleted his Instagram apology for sharing an antisemitic film:\\n\\n\"\"I delete things all the time,\"\"\\xe2\\x80\\xa6'\"\n",
            "\"'RT @NFL_DovKleiman: NFL players live reaction to the Kyrie Irving trade to the Dallas Mavericks from the Pro-Bowl\\n\\n\"\"Why didn\\'t he go the La\\xe2\\x80\\xa6'\"\n",
            "'RT @ShamsCharania: Kyrie Irving \\xe2\\x9e\\xa1\\xef\\xb8\\x8f Dallas Mavericks. https://t.co/2l1Vp1bTgW'\n",
            "\"'RT @Farbod_E: Hi, Hello\\n\\nKawhi Leonard and Paul George are playing against the Mavericks. The only player out is John Wall.\\n\\nHave a nice da\\xe2\\x80\\xa6'\"\n",
            "'@KDametime @DallasMavsFr @NuggetsFra On est tous d\\xe2\\x80\\x99accord avec Dallas Mavericks France c\\xc3\\xb4t\\xc3\\xa9 MFFFL \\xf0\\x9f\\x98\\x89'\n",
            "'RT @tipico: NBA TRADE NEWS:\\n\\nThe Brooklyn Nets are trading Kyrie Irving to the Dallas Mavericks.\\n\\nThe Mavericks are sending Dorian Finney-S\\xe2\\x80\\xa6'\n",
            "'Kyrie Irving is glad to make a new start with the Dallas Mavericks after engineering a move away from the Brooklyn\\xe2\\x80\\xa6 https://t.co/zqiBkaLjh1'\n",
            "'won this one as ONE https://t.co/tU99oWxj6N'\n",
            "'@kc_mavericks Ez'\n",
            "'RT @LouallenDoc: The Dallas Mavericks are interested in acquiring Phoenix Suns center Deandre Ayton. Christian Wood &amp; Tim Hardaway Jr. have\\xe2\\x80\\xa6'\n",
            "'\\xe2\\x81\\xa6@kc_mavericks\\xe2\\x81\\xa9 top Wichita as Shane Starrett stars in net and Pascal Laberge continues his red-hot offense. Mavs w\\xe2\\x80\\xa6 https://t.co/jhOqASFhN3'\n",
            "\"'#sources Dallas Mavericks looking to trade Kyrie Irving, multiple unprotected 1st round picks to the Brooklyn Nets\\xe2\\x80\\xa6 https://t.co/hgebRgYdY5'\"\n",
            "\"'Kyrie Irving Pindah ke Tim Dallas Mavericks, Ini Lika-liku Perjalanan Karir Uncle Draw\\n\\n#KyrieIrving \\nhttps://t.co/0dbJMfNuCK'\"\n",
            "'RT @LouallenDoc: The Dallas Mavericks are interested in acquiring Phoenix Suns center Deandre Ayton. Christian Wood &amp; Tim Hardaway Jr. have\\xe2\\x80\\xa6'\n",
            "'Mavericks take the first game but we play them 2 more times this weekend so they better come prepared for a fight! https://t.co/ih6Jpzrl7q'\n",
            "\"\"\"@JalenRose What if, Kyrie and Love didn't get hurt? What if, LeBron knew he was better than the Mavericks and acted\\xe2\\x80\\xa6 https://t.co/vpOYGxYqV3\"\"\"\n",
            "'RT @WeLikeSportzPC: Twitter Reacts to Trade Involving Kyrie Irving and the Dallas Mavericks. #NBATradeDeadline #NetsWorld #MFFL https://t.c\\xe2\\x80\\xa6'\n",
            "'THIS. CHANGES. EVERYTHING. https://t.co/6AWZvd9fH5'\n",
            "'RT @KevinGraySports: Can the Mavericks do with Kyrie Irving what the Raptors couldn\\xe2\\x80\\x99t ultimately do with Kawhi Leonard after they traded fo\\xe2\\x80\\xa6'\n",
            "'Kyrie Irving 1st practice with the Mavericks https://t.co/fzFqkQAs9h'\n",
            "'Timberwolves vs Mavericks game Monday is going to be insane. I\\xe2\\x80\\x99ll be there @ AAC in downtown dallas. It\\xe2\\x80\\x99s kinda lik\\xe2\\x80\\xa6 https://t.co/Lb8Q1wzIpx'\n",
            "'RT @CBAMavs: What advantage is there to let the 2023 pick to the Knicks convey and NOT trading any future 1sts now?\\n- 2023 conveys\\n- Mavs c\\xe2\\x80\\xa6'\n",
            "'RT @Rachel__Nichols: Kyrie Irving\\xe2\\x80\\x99s first practice with the Mavericks: https://t.co/fLPwuufEyL'\n",
            "\"'RT @MazurFocus: ESPN doesn\\xe2\\x80\\x99t want the Dallas Mavericks to be good. This isn\\xe2\\x80\\x99t new. They hate talking about the Mavericks, or any other team\\xe2\\x80\\xa6'\"\n",
            "'RT @LouallenDoc: The Dallas Mavericks are interested in acquiring Phoenix Suns center Deandre Ayton. Christian Wood &amp; Tim Hardaway Jr. have\\xe2\\x80\\xa6'\n",
            "'RT @MegaMan: Mega Man X dashes on to Android! Join X as he hunts Mavericks and begins to unlock his true potential in his very first advent\\xe2\\x80\\xa6'\n",
            "'What advantage is there to let the 2023 pick to the Knicks convey and NOT trading any future 1sts now?\\n- 2023 conve\\xe2\\x80\\xa6 https://t.co/rxqDZcjTjj'\n",
            "'USA STORE ONLY:\\n\\nDallas Mavericks - Ultra Game NBA Supreme Long Sleeve Pullover T-Shirt\\n\\nhttps://t.co/VMHcKlHlcC\\xe2\\x80\\xa6 https://t.co/F5zMD4bXHG'\n",
            "\"'RT @NFL_DovKleiman: NFL players live reaction to the Kyrie Irving trade to the Dallas Mavericks from the Pro-Bowl\\n\\n\"\"Why didn\\'t he go the La\\xe2\\x80\\xa6'\"\n",
            "\"'RT @townbrad: Irving said he was playing pickup in his New Jersey hometown when his agent called, saying the Mavericks acquired him. He sai\\xe2\\x80\\xa6'\"\n",
            "\"'RT @townbrad: Irving said he was playing pickup in his New Jersey hometown when his agent called, saying the Mavericks acquired him. He sai\\xe2\\x80\\xa6'\"\n",
            "'RT @LouallenDoc: The Dallas Mavericks are interested in acquiring Phoenix Suns center Deandre Ayton. Christian Wood &amp; Tim Hardaway Jr. have\\xe2\\x80\\xa6'\n",
            "'RT @MavsFansForLife: VIDEO: Kyrie Irving Dallas Mavericks Introduction Press Conference \\n https://t.co/dELv4O4mlQ'\n",
            "\"'From @CallieCaplan:\\n\\nKyrie Irving\\xe2\\x80\\x99s whirlwind path to Mavericks: Disbelief, exhaustion and prep for Luka Doncic https://t.co/V1xBMCWbdW'\"\n",
            "'sigo sin entender como kyrie termino en los mavericks'\n",
            "'The 10 words that jenniferleeanng repeats the most on Twitter:\\n1) #NASCAR\\n2) Kyrie\\n3) race\\n4) Irving\\n5) Luka\\n6) sea\\xe2\\x80\\xa6 https://t.co/LvbKVm9i5N'\n",
            "\"'Drop the hammer, we beat the Thunder tonight for back to back wins \\xf0\\x9f\\xa4\\x99 https://t.co/RImWBHOrni'\"\n",
            "\"'RT @NFL_DovKleiman: NFL players live reaction to the Kyrie Irving trade to the Dallas Mavericks from the Pro-Bowl\\n\\n\"\"Why didn\\'t he go the La\\xe2\\x80\\xa6'\"\n",
            "'@kc_mavericks https://t.co/FcipZGfFT0'\n",
            "\"'@drikaaevarini A franquia Dallas Mavericks adora um mau-car\\xc3\\xa1ter, vai combinar.'\"\n",
            "\"'Final: @kc_mavericks 5, @Wichita_Thunder 1. Ryan Harrison/@harry2261 &amp; Pascal Laberge G,A; Tommy Muck/@tmuck02 2A;\\xe2\\x80\\xa6 https://t.co/YCwyViyju0'\"\n",
            "'I think I underrated the mavericks\\n\\nLuka \\nKyrie \\nJosh green\\nJalen Hardy\\nChristian wood/maxi/powell\\n\\nDoesn\\xe2\\x80\\x99t sound that bad any more'\n",
            "'MAVS WIN'\n",
            "'DIA DE DALLAS MAVERICKS HJ TBM EM \\n\\nESTREIA DO IRVING \\xf0\\x9f\\x94\\xa5\\xf0\\x9f\\x94\\xa5'\n",
            "'We\\xe2\\x80\\x99ve had \\xe2\\x9c\\x8c\\xef\\xb8\\x8f short handed goals tonight'\n",
            "'RT @Rachel__Nichols: Kyrie Irving in his first press conference since the trade says he felt \\xe2\\x80\\x9cdisrespected\\xe2\\x80\\x9d by the Nets and wishes that he\\xe2\\x80\\xa6'\n",
            "'Mavericks score again'\n",
            "\"\"\"2-7-23\\nKyrie Irving says he felt 'disrespected' by Nets after trade to Mavericks https://t.co/2urazvnX8D\"\"\"\n",
            "'LAMMON FINDS THE EMPTY NET'\n",
            "'Kyrie Irving is glad to make a new start with the Dallas Mavericks after engineering a move away from the Brooklyn\\xe2\\x80\\xa6 https://t.co/xdnYGp92GK'\n",
            "'NFL: Dallas Cowboys\\nNBA: Dallas Mavericks\\nMLB: Texas Rangers\\nNHL: Dallas Stars\\nNCAA: n/a https://t.co/th9LRK0qWH'\n",
            "\"'RT @townbrad: Irving said he was playing pickup in his New Jersey hometown when his agent called, saying the Mavericks acquired him. He sai\\xe2\\x80\\xa6'\"\n",
            "'Wichita\\xe2\\x80\\x99s net is empty'\n",
            "'Muck to the \\xf0\\x9f\\x93\\xa6'\n",
            "'RT @beforewashjosh: KYRIE GOING TO THE MAVERICKS (ion what that means fr i just wanna be included)'\n",
            "'RT @tipico: NBA TRADE NEWS:\\n\\nThe Brooklyn Nets are trading Kyrie Irving to the Dallas Mavericks.\\n\\nThe Mavericks are sending Dorian Finney-S\\xe2\\x80\\xa6'\n",
            "'35 SAVES SO FAR BY STARRETT TONIGHT https://t.co/8uQtd7BPOY'\n",
            "'RT @MegaMan: Mega Man X dashes on to Android! Join X as he hunts Mavericks and begins to unlock his true potential in his very first advent\\xe2\\x80\\xa6'\n",
            "\"\"\"RT @SFL_Mavericks: Jonesing for a San Diego Mavericks fix during the Week 5 bye? Head on over to San Diego's new Trick Jerseys store and pi\\xe2\\x80\\xa6\"\"\"\n",
            "\"'RT @MazurFocus: ESPN doesn\\xe2\\x80\\x99t want the Dallas Mavericks to be good. This isn\\xe2\\x80\\x99t new. They hate talking about the Mavericks, or any other team\\xe2\\x80\\xa6'\"\n",
            "\"'\"\"I just know I want to be places where I want to be celebrated and not just tolerated or kind of dealt with in a wa\\xe2\\x80\\xa6 https://t.co/ghP0SygXYX'\"\n",
            "'How much did #KyrieIrving receive from the #BrooklynNets after being traded to the #DallasMavericks?\\xf0\\x9f\\xa7\\x90\\xf0\\x9f\\x92\\xb8\\n\\n#NBA \\nhttps://t.co/AbcZoUGQcL'\n",
            "\"'Nuggets vs. Mavericks: How to watch NBA online, TV channel, live stream info, game time\\nhttps://t.co/DZTWRjRdps'\"\n",
            "'RT @mavericks66: \\xe6\\x9d\\xb1\\xe5\\x8c\\x97660\\xe3\\x82\\xb7\\xe3\\x83\\xaa\\xe3\\x83\\xbc\\xe3\\x82\\xba\\xe3\\x80\\x802023\\xe5\\xb9\\xb4\\xe3\\x81\\xae\\xe8\\xa6\\x8f\\xe5\\x89\\x87\\xe6\\x9b\\xb8\\xe3\\x81\\xaa\\xe3\\x81\\xa9\\xe3\\x82\\x92\\xe5\\x85\\xac\\xe9\\x96\\x8b \\xe3\\x82\\x92\\xe6\\x8a\\x95\\xe7\\xa8\\xbf\\xe3\\x81\\x97\\xe3\\x81\\xbe\\xe3\\x81\\x97\\xe3\\x81\\x9f\\xe3\\x80\\x82 #\\xe3\\x82\\xa8\\xe3\\x82\\xad\\xe3\\x82\\xb5\\xe3\\x82\\xa4\\xe3\\x83\\x88\\xe3\\x83\\x96\\xe3\\x83\\xad\\xe3\\x82\\xb0\\nhttps://t.co/3R8RyI6cTl https://t.co/4HiEkPpeAh'\n",
            "\"'\\xe2\\x80\\x9cThere were times throughout this process when I was in Brooklyn where I felt very disrespected,\\xe2\\x80\\x9d Irving said. \\xe2\\x80\\x9c...\\xe2\\x80\\xa6 https://t.co/bGMDNk8vX9'\"\n",
            "\"'RT @Farbod_E: Hi, Hello\\n\\nKawhi Leonard and Paul George are playing against the Mavericks. The only player out is John Wall.\\n\\nHave a nice da\\xe2\\x80\\xa6'\"\n",
            "'I don\\xe2\\x80\\x99t like this quote at all\\xe2\\x80\\xa6 it\\xe2\\x80\\x99s the Dallas Mavericks\\xe2\\x80\\xa6 not the Dallas Lukas https://t.co/xYzuGRNPzT'\n",
            "\"'RT @sixfivelando: The Dallas Mavericks backcourt includes Luka Don\\xc4\\x8di\\xc4\\x87, Kyrie Irving, Josh Green and Jaden Hardy. https://t.co/UjTI9axp1g'\"\n",
            "\"'RT @CallieCaplan: More reaction here, from Maxi Kleber in a coffee shop to Theo Pinson who had just finished a meal with Dorian Finney-Smit\\xe2\\x80\\xa6'\"\n",
            "'RT @benpatterson33: the dallas mavericks need makhi mitchell'\n",
            "\"'5:40 3rd | \\xf0\\x9f\\x90\\xb4 4, \\xf0\\x9f\\x8c\\xa9 1'\"\n",
            "\"'@MadScientistFF Dolphins, Mavericks, Texas Rangers, Dallas Stars and Florida gators'\"\n",
            "\"'RT @townbrad: Irving said he was playing pickup in his New Jersey hometown when his agent called, saying the Mavericks acquired him. He sai\\xe2\\x80\\xa6'\"\n",
            "'RT @MegaMan: Mega Man X dashes on to Android! Join X as he hunts Mavericks and begins to unlock his true potential in his very first advent\\xe2\\x80\\xa6'\n",
            "'Back to back games with goals for Harry and the lead is 3\\xef\\xb8\\x8f\\xe2\\x83\\xa3 https://t.co/Vrm3GKzw1D'\n",
            "'@Ardanilp mavericks jaya jaya jaya pokoknya lah'\n",
            "\"'The trade of @SDinwiddie_25 by @dallasmavs was cold. It says loud &amp; clear Mavericks &amp; their owner, @mcuban, who is\\xe2\\x80\\xa6 https://t.co/8oVSylWfaI'\"\n",
            "'RT @neverbeenequal: \\xf0\\x9f\\x9a\\xa8 BREAKING NEWS: Kyrie Irving traded to the Dallas Mavericks \\xf0\\x9f\\x9a\\xa8\\n\\n*Cam Thomas* https://t.co/eQeMG5Dl0M'\n",
            "'the dallas mavericks need makhi mitchell'\n",
            "\n"
          ]
        }
      ]
    },
    {
      "cell_type": "code",
      "source": [
        "import re\n",
        "import string\n",
        "import nltk\n",
        "\n",
        "nltk.download('stopwords')\n",
        "\n",
        "from nltk.corpus import stopwords"
      ],
      "metadata": {
        "colab": {
          "base_uri": "https://localhost:8080/"
        },
        "id": "uJpAsHZaMBP4",
        "outputId": "131263aa-4097-46c7-cde5-7f5fddfffdf3"
      },
      "execution_count": null,
      "outputs": [
        {
          "output_type": "stream",
          "name": "stderr",
          "text": [
            "[nltk_data] Downloading package stopwords to /root/nltk_data...\n",
            "[nltk_data]   Package stopwords is already up-to-date!\n"
          ]
        }
      ]
    },
    {
      "cell_type": "code",
      "source": [
        "df = df.applymap(lambda x: x[1:] if isinstance(x, str) else x)"
      ],
      "metadata": {
        "id": "957i_aGlThI2"
      },
      "execution_count": null,
      "outputs": []
    },
    {
      "cell_type": "code",
      "source": [
        "def pre_processing(t):\n",
        "    clean_t = re.sub(r'http[s]?://(?:[a-zA-Z]|[0-9]|[$-_@.&+]|[!*\\(\\),]|(?:%[0-9a-fA-F][0-9a-fA-F]))+', '', t)\n",
        "    clean_t = re.sub('@[^\\s]+', '', t)\n",
        "    return clean_t\n",
        "\n",
        "\n",
        "\n",
        "\n"
      ],
      "metadata": {
        "id": "EUAO2LPcNXn1"
      },
      "execution_count": null,
      "outputs": []
    },
    {
      "cell_type": "code",
      "source": [
        "print(pre_processing(csv_string))"
      ],
      "metadata": {
        "colab": {
          "base_uri": "https://localhost:8080/"
        },
        "id": "yadWrHM7UnJN",
        "outputId": "1a93e95d-3997-4937-e99f-488a8407813d"
      },
      "execution_count": null,
      "outputs": [
        {
          "output_type": "stream",
          "name": "stdout",
          "text": [
            "b'Kyrie Irving claims he was \\xe2\\x80\\x98disrespected\\xe2\\x80\\x99 by Nets https://t.co/cchROqw5P7'\n",
            "\"'Kyrie Irving trade rumors: Lakers, Mavericks reluctant to commit long-term to mercurial star, per report\\nhttps://t.co/Gv61FgEeje'\"\n",
            "'RT  #KyrieIrving Irving traded to the Dallas Mavericks for ... sixth grader? \\n\\n\\xf0\\x9f\\x93\\xbd\\xef\\xb8\\x8f: https://t.co/l29ayff5Tm\\n\\n with\\xe2\\x80\\xa6'\n",
            "'RT  The Dallas Mavericks best move is to make this trade for Deandre Ayton. \\n\\nThe Mavs would have to give up Christian Wood &amp; Ti\\xe2\\x80\\xa6'\n",
            "'\\xc2\\xa1MI\\xc3\\x89RCOLES DE #NBAxESPN!\\n\\nDisfruta de los siguientes duelos:\\nCeltics vs. 76ERS\\nClippers vs. Mavericks https://t.co/VymxetOb0M'\n",
            "' was supposed to come to the lakers and he went to the mavericks i\\xe2\\x80\\x99m not jacking that\\xf0\\x9f\\x90\\x8d'\n",
            "'How are we feeling after that one #MavsCountry? https://t.co/onbiXIWMbK'\n",
            "'RT  Mega Man X dashes on to Android! Join X as he hunts Mavericks and begins to unlock his true potential in his very first advent\\xe2\\x80\\xa6'\n",
            "\"'Kyrie Irving Shines In Mavericks Practice Debut, Throws Sweet Alley-Oop\\nhttps://t.co/VzzFJ4pyFg https://t.co/uytQHUNOiS'\"\n",
            "\"\"\"RT  \\xf0\\x9f\\xa4\\xac'SENT\\xc3\\x8d QUE ME FALTARON MUCHO AL RESPETO'\\n\\nKyrie Irving expres\\xc3\\xb3 su molestia con Brooklyn Nets, despu\\xc3\\xa9s de incorporarse a D\\xe2\\x80\\xa6\"\"\"\n",
            "\"\"\"LeBron James is poised to pass Kareem Abdul-Jabbar on the NBA's all-time scoring list, as he needs 36 points in the\\xe2\\x80\\xa6 https://t.co/UjQ1T3zY4j\"\"\"\n",
            "'Kyrie Irving was traded from the Brooklyn Nets and will soon take the court with the Dallas Mavericks. He spoke to\\xe2\\x80\\xa6 https://t.co/4XKio7Dqkg'\n",
            "'RT  Mega Man X dashes on to Android! Join X as he hunts Mavericks and begins to unlock his true potential in his very first advent\\xe2\\x80\\xa6'\n",
            "\"'RT  . says the Mavericks are in a \"\"very potent situation\"\" when it comes to the Luka-Kyrie duo.\\n\\n\"\"Why would Kyrie t\\xe2\\x80\\xa6'\"\n",
            "' Mavericks \\xf0\\x9f\\x98\\x85'\n",
            "'If Dallas mavericks trade for bol bol bro \\xf0\\x9f\\x98\\x82\\xf0\\x9f\\x98\\x82\\xf0\\x9f\\x98\\x82'\n",
            "\"'RT  . says the Mavericks are in a \"\"very potent situation\"\" when it comes to the Luka-Kyrie duo.\\n\\n\"\"Why would Kyrie t\\xe2\\x80\\xa6'\"\n",
            "'RT  The Dallas Mavericks are interested in acquiring Phoenix Suns center Deandre Ayton. Christian Wood &amp; Tim Hardaway Jr. have\\xe2\\x80\\xa6'\n",
            "'Kyrie Irving trade grades: Mavericks earn high marks for landing All-Star point guard from Nets\\nhttps://t.co/SVcSXsgGs0'\n",
            "\"'If the pitcher ever hits u w the ball rush his ass &amp; hit him w a spear jab, slip left, left hook, roll, then liver\\xe2\\x80\\xa6 https://t.co/mxVWWOLhh0'\"\n",
            "'Coach Jason Kidd | Kyrie Irving Trade | PRESS CONFERENCE #Dallas #Mavericks #NBA Video: https://t.co/4jfFjUUa5V'\n",
            "\"'RT  Kyrie Irving confirms he deleted his Instagram apology for sharing an antisemitic film:\\n\\n\"\"I delete things all the time,\"\"\\xe2\\x80\\xa6'\"\n",
            "\"'RT  NFL players live reaction to the Kyrie Irving trade to the Dallas Mavericks from the Pro-Bowl\\n\\n\"\"Why didn\\'t he go the La\\xe2\\x80\\xa6'\"\n",
            "'RT  Kyrie Irving \\xe2\\x9e\\xa1\\xef\\xb8\\x8f Dallas Mavericks. https://t.co/2l1Vp1bTgW'\n",
            "\"'RT  Hi, Hello\\n\\nKawhi Leonard and Paul George are playing against the Mavericks. The only player out is John Wall.\\n\\nHave a nice da\\xe2\\x80\\xa6'\"\n",
            "'   On est tous d\\xe2\\x80\\x99accord avec Dallas Mavericks France c\\xc3\\xb4t\\xc3\\xa9 MFFFL \\xf0\\x9f\\x98\\x89'\n",
            "'RT  NBA TRADE NEWS:\\n\\nThe Brooklyn Nets are trading Kyrie Irving to the Dallas Mavericks.\\n\\nThe Mavericks are sending Dorian Finney-S\\xe2\\x80\\xa6'\n",
            "'Kyrie Irving is glad to make a new start with the Dallas Mavericks after engineering a move away from the Brooklyn\\xe2\\x80\\xa6 https://t.co/zqiBkaLjh1'\n",
            "'won this one as ONE https://t.co/tU99oWxj6N'\n",
            "' Ez'\n",
            "'RT  The Dallas Mavericks are interested in acquiring Phoenix Suns center Deandre Ayton. Christian Wood &amp; Tim Hardaway Jr. have\\xe2\\x80\\xa6'\n",
            "'\\xe2\\x81\\xa6 top Wichita as Shane Starrett stars in net and Pascal Laberge continues his red-hot offense. Mavs w\\xe2\\x80\\xa6 https://t.co/jhOqASFhN3'\n",
            "\"'#sources Dallas Mavericks looking to trade Kyrie Irving, multiple unprotected 1st round picks to the Brooklyn Nets\\xe2\\x80\\xa6 https://t.co/hgebRgYdY5'\"\n",
            "\"'Kyrie Irving Pindah ke Tim Dallas Mavericks, Ini Lika-liku Perjalanan Karir Uncle Draw\\n\\n#KyrieIrving \\nhttps://t.co/0dbJMfNuCK'\"\n",
            "'RT  The Dallas Mavericks are interested in acquiring Phoenix Suns center Deandre Ayton. Christian Wood &amp; Tim Hardaway Jr. have\\xe2\\x80\\xa6'\n",
            "'Mavericks take the first game but we play them 2 more times this weekend so they better come prepared for a fight! https://t.co/ih6Jpzrl7q'\n",
            "\"\"\" What if, Kyrie and Love didn't get hurt? What if, LeBron knew he was better than the Mavericks and acted\\xe2\\x80\\xa6 https://t.co/vpOYGxYqV3\"\"\"\n",
            "'RT  Twitter Reacts to Trade Involving Kyrie Irving and the Dallas Mavericks. #NBATradeDeadline #NetsWorld #MFFL https://t.c\\xe2\\x80\\xa6'\n",
            "'THIS. CHANGES. EVERYTHING. https://t.co/6AWZvd9fH5'\n",
            "'RT  Can the Mavericks do with Kyrie Irving what the Raptors couldn\\xe2\\x80\\x99t ultimately do with Kawhi Leonard after they traded fo\\xe2\\x80\\xa6'\n",
            "'Kyrie Irving 1st practice with the Mavericks https://t.co/fzFqkQAs9h'\n",
            "'Timberwolves vs Mavericks game Monday is going to be insane. I\\xe2\\x80\\x99ll be there @ AAC in downtown dallas. It\\xe2\\x80\\x99s kinda lik\\xe2\\x80\\xa6 https://t.co/Lb8Q1wzIpx'\n",
            "'RT  What advantage is there to let the 2023 pick to the Knicks convey and NOT trading any future 1sts now?\\n- 2023 conveys\\n- Mavs c\\xe2\\x80\\xa6'\n",
            "'RT  Kyrie Irving\\xe2\\x80\\x99s first practice with the Mavericks: https://t.co/fLPwuufEyL'\n",
            "\"'RT  ESPN doesn\\xe2\\x80\\x99t want the Dallas Mavericks to be good. This isn\\xe2\\x80\\x99t new. They hate talking about the Mavericks, or any other team\\xe2\\x80\\xa6'\"\n",
            "'RT  The Dallas Mavericks are interested in acquiring Phoenix Suns center Deandre Ayton. Christian Wood &amp; Tim Hardaway Jr. have\\xe2\\x80\\xa6'\n",
            "'RT  Mega Man X dashes on to Android! Join X as he hunts Mavericks and begins to unlock his true potential in his very first advent\\xe2\\x80\\xa6'\n",
            "'What advantage is there to let the 2023 pick to the Knicks convey and NOT trading any future 1sts now?\\n- 2023 conve\\xe2\\x80\\xa6 https://t.co/rxqDZcjTjj'\n",
            "'USA STORE ONLY:\\n\\nDallas Mavericks - Ultra Game NBA Supreme Long Sleeve Pullover T-Shirt\\n\\nhttps://t.co/VMHcKlHlcC\\xe2\\x80\\xa6 https://t.co/F5zMD4bXHG'\n",
            "\"'RT  NFL players live reaction to the Kyrie Irving trade to the Dallas Mavericks from the Pro-Bowl\\n\\n\"\"Why didn\\'t he go the La\\xe2\\x80\\xa6'\"\n",
            "\"'RT  Irving said he was playing pickup in his New Jersey hometown when his agent called, saying the Mavericks acquired him. He sai\\xe2\\x80\\xa6'\"\n",
            "\"'RT  Irving said he was playing pickup in his New Jersey hometown when his agent called, saying the Mavericks acquired him. He sai\\xe2\\x80\\xa6'\"\n",
            "'RT  The Dallas Mavericks are interested in acquiring Phoenix Suns center Deandre Ayton. Christian Wood &amp; Tim Hardaway Jr. have\\xe2\\x80\\xa6'\n",
            "'RT  VIDEO: Kyrie Irving Dallas Mavericks Introduction Press Conference \\n https://t.co/dELv4O4mlQ'\n",
            "\"'From  Irving\\xe2\\x80\\x99s whirlwind path to Mavericks: Disbelief, exhaustion and prep for Luka Doncic https://t.co/V1xBMCWbdW'\"\n",
            "'sigo sin entender como kyrie termino en los mavericks'\n",
            "'The 10 words that jenniferleeanng repeats the most on Twitter:\\n1) #NASCAR\\n2) Kyrie\\n3) race\\n4) Irving\\n5) Luka\\n6) sea\\xe2\\x80\\xa6 https://t.co/LvbKVm9i5N'\n",
            "\"'Drop the hammer, we beat the Thunder tonight for back to back wins \\xf0\\x9f\\xa4\\x99 https://t.co/RImWBHOrni'\"\n",
            "\"'RT  NFL players live reaction to the Kyrie Irving trade to the Dallas Mavericks from the Pro-Bowl\\n\\n\"\"Why didn\\'t he go the La\\xe2\\x80\\xa6'\"\n",
            "' https://t.co/FcipZGfFT0'\n",
            "\"' A franquia Dallas Mavericks adora um mau-car\\xc3\\xa1ter, vai combinar.'\"\n",
            "\"'Final:  5,  1. Ryan Harrison/ &amp; Pascal Laberge G,A; Tommy Muck/ 2A;\\xe2\\x80\\xa6 https://t.co/YCwyViyju0'\"\n",
            "'I think I underrated the mavericks\\n\\nLuka \\nKyrie \\nJosh green\\nJalen Hardy\\nChristian wood/maxi/powell\\n\\nDoesn\\xe2\\x80\\x99t sound that bad any more'\n",
            "'MAVS WIN'\n",
            "'DIA DE DALLAS MAVERICKS HJ TBM EM \\n\\nESTREIA DO IRVING \\xf0\\x9f\\x94\\xa5\\xf0\\x9f\\x94\\xa5'\n",
            "'We\\xe2\\x80\\x99ve had \\xe2\\x9c\\x8c\\xef\\xb8\\x8f short handed goals tonight'\n",
            "'RT  Kyrie Irving in his first press conference since the trade says he felt \\xe2\\x80\\x9cdisrespected\\xe2\\x80\\x9d by the Nets and wishes that he\\xe2\\x80\\xa6'\n",
            "'Mavericks score again'\n",
            "\"\"\"2-7-23\\nKyrie Irving says he felt 'disrespected' by Nets after trade to Mavericks https://t.co/2urazvnX8D\"\"\"\n",
            "'LAMMON FINDS THE EMPTY NET'\n",
            "'Kyrie Irving is glad to make a new start with the Dallas Mavericks after engineering a move away from the Brooklyn\\xe2\\x80\\xa6 https://t.co/xdnYGp92GK'\n",
            "'NFL: Dallas Cowboys\\nNBA: Dallas Mavericks\\nMLB: Texas Rangers\\nNHL: Dallas Stars\\nNCAA: n/a https://t.co/th9LRK0qWH'\n",
            "\"'RT  Irving said he was playing pickup in his New Jersey hometown when his agent called, saying the Mavericks acquired him. He sai\\xe2\\x80\\xa6'\"\n",
            "'Wichita\\xe2\\x80\\x99s net is empty'\n",
            "'Muck to the \\xf0\\x9f\\x93\\xa6'\n",
            "'RT  KYRIE GOING TO THE MAVERICKS (ion what that means fr i just wanna be included)'\n",
            "'RT  NBA TRADE NEWS:\\n\\nThe Brooklyn Nets are trading Kyrie Irving to the Dallas Mavericks.\\n\\nThe Mavericks are sending Dorian Finney-S\\xe2\\x80\\xa6'\n",
            "'35 SAVES SO FAR BY STARRETT TONIGHT https://t.co/8uQtd7BPOY'\n",
            "'RT  Mega Man X dashes on to Android! Join X as he hunts Mavericks and begins to unlock his true potential in his very first advent\\xe2\\x80\\xa6'\n",
            "\"\"\"RT  Jonesing for a San Diego Mavericks fix during the Week 5 bye? Head on over to San Diego's new Trick Jerseys store and pi\\xe2\\x80\\xa6\"\"\"\n",
            "\"'RT  ESPN doesn\\xe2\\x80\\x99t want the Dallas Mavericks to be good. This isn\\xe2\\x80\\x99t new. They hate talking about the Mavericks, or any other team\\xe2\\x80\\xa6'\"\n",
            "\"'\"\"I just know I want to be places where I want to be celebrated and not just tolerated or kind of dealt with in a wa\\xe2\\x80\\xa6 https://t.co/ghP0SygXYX'\"\n",
            "'How much did #KyrieIrving receive from the #BrooklynNets after being traded to the #DallasMavericks?\\xf0\\x9f\\xa7\\x90\\xf0\\x9f\\x92\\xb8\\n\\n#NBA \\nhttps://t.co/AbcZoUGQcL'\n",
            "\"'Nuggets vs. Mavericks: How to watch NBA online, TV channel, live stream info, game time\\nhttps://t.co/DZTWRjRdps'\"\n",
            "'RT  \\xe6\\x9d\\xb1\\xe5\\x8c\\x97660\\xe3\\x82\\xb7\\xe3\\x83\\xaa\\xe3\\x83\\xbc\\xe3\\x82\\xba\\xe3\\x80\\x802023\\xe5\\xb9\\xb4\\xe3\\x81\\xae\\xe8\\xa6\\x8f\\xe5\\x89\\x87\\xe6\\x9b\\xb8\\xe3\\x81\\xaa\\xe3\\x81\\xa9\\xe3\\x82\\x92\\xe5\\x85\\xac\\xe9\\x96\\x8b \\xe3\\x82\\x92\\xe6\\x8a\\x95\\xe7\\xa8\\xbf\\xe3\\x81\\x97\\xe3\\x81\\xbe\\xe3\\x81\\x97\\xe3\\x81\\x9f\\xe3\\x80\\x82 #\\xe3\\x82\\xa8\\xe3\\x82\\xad\\xe3\\x82\\xb5\\xe3\\x82\\xa4\\xe3\\x83\\x88\\xe3\\x83\\x96\\xe3\\x83\\xad\\xe3\\x82\\xb0\\nhttps://t.co/3R8RyI6cTl https://t.co/4HiEkPpeAh'\n",
            "\"'\\xe2\\x80\\x9cThere were times throughout this process when I was in Brooklyn where I felt very disrespected,\\xe2\\x80\\x9d Irving said. \\xe2\\x80\\x9c...\\xe2\\x80\\xa6 https://t.co/bGMDNk8vX9'\"\n",
            "\"'RT  Hi, Hello\\n\\nKawhi Leonard and Paul George are playing against the Mavericks. The only player out is John Wall.\\n\\nHave a nice da\\xe2\\x80\\xa6'\"\n",
            "'I don\\xe2\\x80\\x99t like this quote at all\\xe2\\x80\\xa6 it\\xe2\\x80\\x99s the Dallas Mavericks\\xe2\\x80\\xa6 not the Dallas Lukas https://t.co/xYzuGRNPzT'\n",
            "\"'RT  The Dallas Mavericks backcourt includes Luka Don\\xc4\\x8di\\xc4\\x87, Kyrie Irving, Josh Green and Jaden Hardy. https://t.co/UjTI9axp1g'\"\n",
            "\"'RT  More reaction here, from Maxi Kleber in a coffee shop to Theo Pinson who had just finished a meal with Dorian Finney-Smit\\xe2\\x80\\xa6'\"\n",
            "'RT  the dallas mavericks need makhi mitchell'\n",
            "\"'5:40 3rd | \\xf0\\x9f\\x90\\xb4 4, \\xf0\\x9f\\x8c\\xa9 1'\"\n",
            "\"' Dolphins, Mavericks, Texas Rangers, Dallas Stars and Florida gators'\"\n",
            "\"'RT  Irving said he was playing pickup in his New Jersey hometown when his agent called, saying the Mavericks acquired him. He sai\\xe2\\x80\\xa6'\"\n",
            "'RT  Mega Man X dashes on to Android! Join X as he hunts Mavericks and begins to unlock his true potential in his very first advent\\xe2\\x80\\xa6'\n",
            "'Back to back games with goals for Harry and the lead is 3\\xef\\xb8\\x8f\\xe2\\x83\\xa3 https://t.co/Vrm3GKzw1D'\n",
            "' mavericks jaya jaya jaya pokoknya lah'\n",
            "\"'The trade of  by  was cold. It says loud &amp; clear Mavericks &amp; their owner,  who is\\xe2\\x80\\xa6 https://t.co/8oVSylWfaI'\"\n",
            "'RT  \\xf0\\x9f\\x9a\\xa8 BREAKING NEWS: Kyrie Irving traded to the Dallas Mavericks \\xf0\\x9f\\x9a\\xa8\\n\\n*Cam Thomas* https://t.co/eQeMG5Dl0M'\n",
            "'the dallas mavericks need makhi mitchell'\n",
            "\n"
          ]
        }
      ]
    },
    {
      "cell_type": "markdown",
      "source": [
        "I have no idea what to do here to make this one function i have tried everything I could think of and I have gotten nowhere. When I add the remove punctuation formula to the function it removes the punctuation before the other things can run i guess so nothing ever gets removed\n"
      ],
      "metadata": {
        "id": "O2TIBRKUXg_6"
      }
    },
    {
      "cell_type": "code",
      "source": [
        "nltk.download('punkt')"
      ],
      "metadata": {
        "colab": {
          "base_uri": "https://localhost:8080/"
        },
        "id": "pf6hBTVUXzo3",
        "outputId": "d9ee262e-457a-4347-b1bc-c74f953b4311"
      },
      "execution_count": null,
      "outputs": [
        {
          "output_type": "stream",
          "name": "stderr",
          "text": [
            "[nltk_data] Downloading package punkt to /root/nltk_data...\n",
            "[nltk_data]   Unzipping tokenizers/punkt.zip.\n"
          ]
        },
        {
          "output_type": "execute_result",
          "data": {
            "text/plain": [
              "True"
            ]
          },
          "metadata": {},
          "execution_count": 91
        }
      ]
    },
    {
      "cell_type": "code",
      "source": [
        "import nltk\n",
        "from nltk.probability import FreqDist\n",
        "\n",
        "fdist1 = FreqDist(nltk.tokenize.word_tokenize(pre_processing(csv_string)))\n",
        "\n",
        "fdist1.most_common(50)"
      ],
      "metadata": {
        "colab": {
          "base_uri": "https://localhost:8080/"
        },
        "id": "1Fdp8iV0YBz1",
        "outputId": "57c20a4f-242c-4fbc-a78c-e52b877b9e34"
      },
      "execution_count": null,
      "outputs": [
        {
          "output_type": "execute_result",
          "data": {
            "text/plain": [
              "[(\"''\", 113),\n",
              " (':', 70),\n",
              " ('the', 69),\n",
              " ('Mavericks', 59),\n",
              " ('to', 53),\n",
              " (\"'\", 47),\n",
              " ('https', 41),\n",
              " (\"'RT\", 41),\n",
              " (',', 39),\n",
              " ('Dallas', 34),\n",
              " ('Irving', 32),\n",
              " ('.', 32),\n",
              " ('in', 23),\n",
              " ('and', 22),\n",
              " ('his', 22),\n",
              " ('he', 19),\n",
              " ('Kyrie', 19),\n",
              " ('#', 17),\n",
              " ('a', 15),\n",
              " ('are', 14),\n",
              " (';', 12),\n",
              " ('trade', 11),\n",
              " ('is', 11),\n",
              " ('was', 10),\n",
              " ('for', 10),\n",
              " ('&', 10),\n",
              " ('amp', 10),\n",
              " ('X', 10),\n",
              " ('with', 10),\n",
              " ('The', 9),\n",
              " ('from', 9),\n",
              " ('I', 9),\n",
              " (\"'Kyrie\", 8),\n",
              " ('on', 8),\n",
              " ('as', 8),\n",
              " ('very', 8),\n",
              " ('first', 8),\n",
              " ('Nets', 7),\n",
              " ('?', 7),\n",
              " ('!', 7),\n",
              " ('NBA', 7),\n",
              " ('when', 7),\n",
              " ('be', 7),\n",
              " (')', 7),\n",
              " ('Deandre', 6),\n",
              " ('Ayton', 6),\n",
              " ('Christian', 6),\n",
              " ('Wood', 6),\n",
              " ('after', 6),\n",
              " ('Brooklyn', 6)]"
            ]
          },
          "metadata": {},
          "execution_count": 92
        }
      ]
    },
    {
      "cell_type": "code",
      "source": [
        "from wordcloud import WordCloud\n",
        "\n",
        "import matplotlib.pyplot as plt"
      ],
      "metadata": {
        "id": "evts-URjYVk6"
      },
      "execution_count": null,
      "outputs": []
    },
    {
      "cell_type": "code",
      "source": [
        "wc = WordCloud(min_font_size=16, max_words=100, background_color=\"white\",width=600,height=600).generate(pre_processing(csv_string))\n",
        "\n",
        "plt.figure()\n",
        "plt.imshow(wc, interpolation=\"bilinear\")\n",
        "plt.axis(\"off\")\n",
        "plt.show()"
      ],
      "metadata": {
        "colab": {
          "base_uri": "https://localhost:8080/",
          "height": 248
        },
        "id": "yL3W6HHAYbJV",
        "outputId": "1ff59961-f305-4a23-fe7e-56ba324d7905"
      },
      "execution_count": null,
      "outputs": [
        {
          "output_type": "display_data",
          "data": {
            "text/plain": [
              "<Figure size 432x288 with 1 Axes>"
            ],
            "image/png": "[encoded data removed]"
          },
          "metadata": {
            "needs_background": "light"
          }
        }
      ]
    },
    {
      "cell_type": "markdown",
      "source": [
        "My wordcloud looks awful because I couldn't figure out how to get all the pre processing to work. The most common words were about the kyrie irving trade to the dallas mavericks."
      ],
      "metadata": {
        "id": "j9fLll2cYgxv"
      }
    }
  ]
}